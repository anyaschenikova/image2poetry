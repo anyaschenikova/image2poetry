{
  "nbformat": 4,
  "nbformat_minor": 0,
  "metadata": {
    "colab": {
      "provenance": []
    },
    "kernelspec": {
      "name": "python3",
      "display_name": "Python 3"
    },
    "language_info": {
      "name": "python"
    }
  },
  "cells": [
    {
      "cell_type": "markdown",
      "source": [
        "[![Open In Colab](https://colab.research.google.com/assets/colab-badge.svg)](https://colab.research.google.com/drive/1V0wgv4lGFMJm-m50UHhTObJg5QmbvE0b?usp=sharing)"
      ],
      "metadata": {
        "id": "enWtEBCu2_Nq"
      }
    },
    {
      "cell_type": "markdown",
      "source": [
        "# imports"
      ],
      "metadata": {
        "id": "B7ikqKnc4Usd"
      }
    },
    {
      "cell_type": "code",
      "source": [
        "import pandas as pd"
      ],
      "metadata": {
        "id": "Vh_ktRQi2iYy"
      },
      "execution_count": null,
      "outputs": []
    },
    {
      "cell_type": "code",
      "execution_count": null,
      "metadata": {
        "id": "o93_hLsfpBlG"
      },
      "outputs": [],
      "source": [
        "from tqdm import tqdm"
      ]
    },
    {
      "cell_type": "code",
      "source": [
        "import pickle"
      ],
      "metadata": {
        "id": "gzAodqRxKLy6"
      },
      "execution_count": null,
      "outputs": []
    },
    {
      "cell_type": "markdown",
      "source": [
        "##load real data"
      ],
      "metadata": {
        "id": "dsIZp8sz4ECB"
      }
    },
    {
      "cell_type": "code",
      "source": [
        "real_poetry_df = pd.read_csv('../data/poetry_keywords.csv')"
      ],
      "metadata": {
        "id": "e2Q0poPL2kW8"
      },
      "execution_count": null,
      "outputs": []
    },
    {
      "cell_type": "code",
      "source": [
        "real_poetry_df['keywords'] = real_poetry_df['keywords'].apply(lambda x: ', '.join(x.split(\"'\")[1:-1:2]))"
      ],
      "metadata": {
        "id": "lGvr13MP3b3e"
      },
      "execution_count": null,
      "outputs": []
    },
    {
      "cell_type": "markdown",
      "source": [
        "##load generated data"
      ],
      "metadata": {
        "id": "YAZ1Zw6k4FjY"
      }
    },
    {
      "cell_type": "markdown",
      "source": [
        "### Medium one-to-many"
      ],
      "metadata": {
        "id": "O2xPtwWOCp4a"
      }
    },
    {
      "cell_type": "code",
      "source": [
        "with open('../generated/key2poetry/medium_all_poets.pkl', 'rb') as f:\n",
        "    generated_poetry_medium = pickle.load(f)"
      ],
      "metadata": {
        "id": "vaw1DFxmC0L0"
      },
      "execution_count": null,
      "outputs": []
    },
    {
      "cell_type": "markdown",
      "source": [
        "### large one-to-many"
      ],
      "metadata": {
        "id": "W4MbREX24IKE"
      }
    },
    {
      "cell_type": "code",
      "execution_count": null,
      "metadata": {
        "id": "YLvxORnYknBL"
      },
      "outputs": [],
      "source": [
        "with open('../generated/key2poetry/large_all_poets.pkl', 'rb') as f:\n",
        "    generated_poetry_large = pickle.load(f)"
      ]
    },
    {
      "cell_type": "markdown",
      "metadata": {
        "id": "JBPbAJ2LtZF6"
      },
      "source": [
        "## from .pkl to dataframe"
      ]
    },
    {
      "cell_type": "code",
      "execution_count": null,
      "metadata": {
        "id": "Xo1sdVR6mdOW"
      },
      "outputs": [],
      "source": [
        "poets = real_poetry_df['author'].unique()"
      ]
    },
    {
      "cell_type": "code",
      "execution_count": null,
      "metadata": {
        "colab": {
          "base_uri": "https://localhost:8080/"
        },
        "id": "xGJrs2Nhnpyb",
        "outputId": "bf77a72f-a34b-4d9e-98ec-f794188a5d7d"
      },
      "outputs": [
        {
          "output_type": "stream",
          "name": "stderr",
          "text": [
            "100%|████████████████████████████████████████████████████████████████████████████████████| 5/5 [00:00<00:00, 363.86it/s]\n",
            "100%|████████████████████████████████████████████████████████████████████████████████████| 5/5 [00:00<00:00, 339.00it/s]\n"
          ]
        }
      ],
      "source": [
        "def from_pkl_to_df(data_pkl: pd.DataFrame):  \n",
        "  generated_df = pd.DataFrame()\n",
        "\n",
        "  for poet in tqdm(poets):\n",
        "    new_df = pd.DataFrame()\n",
        "    poetry = []\n",
        "    keywords = []\n",
        "    \n",
        "    for line in data_pkl[poet]:\n",
        "      poetry.append(line.split('Поэзия:')[-1])\n",
        "      keywords.append(line.split('Поэзия:')[0].split('Ключевые слова:')[-1].replace('\\n',''))\n",
        "\n",
        "    new_df['author'] = [poet] * len(data_pkl[poet])\n",
        "    new_df['text'] = poetry\n",
        "    new_df['keywords'] = keywords\n",
        "    generated_df = pd.concat([generated_df, new_df])\n",
        "  return generated_df\n",
        "\n",
        "generated_medium_df = from_pkl_to_df(generated_poetry_medium)\n",
        "generated_large_df = from_pkl_to_df(generated_poetry_large)"
      ]
    },
    {
      "cell_type": "code",
      "source": [
        "generated_large_df"
      ],
      "metadata": {
        "colab": {
          "base_uri": "https://localhost:8080/",
          "height": 424
        },
        "id": "077KVK7gKVqI",
        "outputId": "7f4c4aef-d5ff-4f6b-a024-ef401d116293"
      },
      "execution_count": null,
      "outputs": [
        {
          "output_type": "execute_result",
          "data": {
            "text/plain": [
              "          author                                               text   \n",
              "0     Маяковский   А если мама\\n             не пускает\\nв крова...  \\\n",
              "1     Маяковский   Встал Петр,\\n             сел у окна,\\nсмотри...   \n",
              "2     Маяковский   Вышла\\n        Керзонова\\n         школа\\nза ...   \n",
              "3     Маяковский   Приказ\\n        выполнить немедленно!\\nПройди...   \n",
              "4     Маяковский   Вышел\\n          Номисвыходил,\\n             ...   \n",
              "...          ...                                                ...   \n",
              "2202      Пушкин   Старец шел путем путем.\\nПод вечер недалеко\\n...   \n",
              "2203      Пушкин   Я жду тебя; нетерпеньем обуян,\\nВ уме всё обд...   \n",
              "2204      Пушкин   Явись мне, спаситель мира,\\nУспокой души моей...   \n",
              "2205      Пушкин   И мне надоело жить,\\nХочу, чтоб мне надышатьс...   \n",
              "2206      Пушкин   Представь, что в бездействии счастливом\\nЕще ...   \n",
              "\n",
              "                                            keywords  \n",
              "0        спать, журнальчик, заставить, мальчик, мать  \n",
              "1             вставать, детвора, отец, засыпать, ухо  \n",
              "2            мочить, дрематься, выходить, школа, чай  \n",
              "3        магазин, вывеска, прочесть, пошагать, симон  \n",
              "4       номисвыходить, наука, пять, прочесть, третий  \n",
              "...                                              ...  \n",
              "2202         сон, старец, ангел, плаватель, готовить  \n",
              "2203      утомлённый, сон, ждать, исповедовать, плуг  \n",
              "2204     успокоить, надеяться, казнь, творец, вечный  \n",
              "2205    надоесть, охладеть, жизнь, хотеть, молодость  \n",
              "2206   наслаждение, воображение, сон, ещё, храниться  \n",
              "\n",
              "[7755 rows x 3 columns]"
            ],
            "text/html": [
              "<div>\n",
              "<style scoped>\n",
              "    .dataframe tbody tr th:only-of-type {\n",
              "        vertical-align: middle;\n",
              "    }\n",
              "\n",
              "    .dataframe tbody tr th {\n",
              "        vertical-align: top;\n",
              "    }\n",
              "\n",
              "    .dataframe thead th {\n",
              "        text-align: right;\n",
              "    }\n",
              "</style>\n",
              "<table border=\"1\" class=\"dataframe\">\n",
              "  <thead>\n",
              "    <tr style=\"text-align: right;\">\n",
              "      <th></th>\n",
              "      <th>author</th>\n",
              "      <th>text</th>\n",
              "      <th>keywords</th>\n",
              "    </tr>\n",
              "  </thead>\n",
              "  <tbody>\n",
              "    <tr>\n",
              "      <th>0</th>\n",
              "      <td>Маяковский</td>\n",
              "      <td>А если мама\\n             не пускает\\nв крова...</td>\n",
              "      <td>спать, журнальчик, заставить, мальчик, мать</td>\n",
              "    </tr>\n",
              "    <tr>\n",
              "      <th>1</th>\n",
              "      <td>Маяковский</td>\n",
              "      <td>Встал Петр,\\n             сел у окна,\\nсмотри...</td>\n",
              "      <td>вставать, детвора, отец, засыпать, ухо</td>\n",
              "    </tr>\n",
              "    <tr>\n",
              "      <th>2</th>\n",
              "      <td>Маяковский</td>\n",
              "      <td>Вышла\\n        Керзонова\\n         школа\\nза ...</td>\n",
              "      <td>мочить, дрематься, выходить, школа, чай</td>\n",
              "    </tr>\n",
              "    <tr>\n",
              "      <th>3</th>\n",
              "      <td>Маяковский</td>\n",
              "      <td>Приказ\\n        выполнить немедленно!\\nПройди...</td>\n",
              "      <td>магазин, вывеска, прочесть, пошагать, симон</td>\n",
              "    </tr>\n",
              "    <tr>\n",
              "      <th>4</th>\n",
              "      <td>Маяковский</td>\n",
              "      <td>Вышел\\n          Номисвыходил,\\n             ...</td>\n",
              "      <td>номисвыходить, наука, пять, прочесть, третий</td>\n",
              "    </tr>\n",
              "    <tr>\n",
              "      <th>...</th>\n",
              "      <td>...</td>\n",
              "      <td>...</td>\n",
              "      <td>...</td>\n",
              "    </tr>\n",
              "    <tr>\n",
              "      <th>2202</th>\n",
              "      <td>Пушкин</td>\n",
              "      <td>Старец шел путем путем.\\nПод вечер недалеко\\n...</td>\n",
              "      <td>сон, старец, ангел, плаватель, готовить</td>\n",
              "    </tr>\n",
              "    <tr>\n",
              "      <th>2203</th>\n",
              "      <td>Пушкин</td>\n",
              "      <td>Я жду тебя; нетерпеньем обуян,\\nВ уме всё обд...</td>\n",
              "      <td>утомлённый, сон, ждать, исповедовать, плуг</td>\n",
              "    </tr>\n",
              "    <tr>\n",
              "      <th>2204</th>\n",
              "      <td>Пушкин</td>\n",
              "      <td>Явись мне, спаситель мира,\\nУспокой души моей...</td>\n",
              "      <td>успокоить, надеяться, казнь, творец, вечный</td>\n",
              "    </tr>\n",
              "    <tr>\n",
              "      <th>2205</th>\n",
              "      <td>Пушкин</td>\n",
              "      <td>И мне надоело жить,\\nХочу, чтоб мне надышатьс...</td>\n",
              "      <td>надоесть, охладеть, жизнь, хотеть, молодость</td>\n",
              "    </tr>\n",
              "    <tr>\n",
              "      <th>2206</th>\n",
              "      <td>Пушкин</td>\n",
              "      <td>Представь, что в бездействии счастливом\\nЕще ...</td>\n",
              "      <td>наслаждение, воображение, сон, ещё, храниться</td>\n",
              "    </tr>\n",
              "  </tbody>\n",
              "</table>\n",
              "<p>7755 rows × 3 columns</p>\n",
              "</div>"
            ]
          },
          "metadata": {},
          "execution_count": 14
        }
      ]
    },
    {
      "cell_type": "markdown",
      "metadata": {
        "id": "wbOCfMQLtepP"
      },
      "source": [
        "## use sentence-transformers"
      ]
    },
    {
      "cell_type": "code",
      "execution_count": null,
      "metadata": {
        "id": "ZMJcXFwxpoKJ"
      },
      "outputs": [],
      "source": [
        "!pip install -U sentence-transformers"
      ]
    },
    {
      "cell_type": "code",
      "source": [
        "from sentence_transformers import SentenceTransformer\n",
        "from sklearn.metrics.pairwise import cosine_similarity\n",
        "\n",
        "# Load the pre-trained Sentence Transformers model\n",
        "model = SentenceTransformer('bert-base-nli-mean-tokens')"
      ],
      "metadata": {
        "colab": {
          "base_uri": "https://localhost:8080/"
        },
        "id": "uxblUSEG5gG5",
        "outputId": "e31a4c04-4bf8-428a-be79-b96ea40c9e26"
      },
      "execution_count": null,
      "outputs": [
        {
          "output_type": "stream",
          "name": "stderr",
          "text": [
            "/root/anaconda3/envs/poetry_gpt3/lib/python3.9/site-packages/tqdm/auto.py:21: TqdmWarning: IProgress not found. Please update jupyter and ipywidgets. See https://ipywidgets.readthedocs.io/en/stable/user_install.html\n",
            "  from .autonotebook import tqdm as notebook_tqdm\n"
          ]
        }
      ]
    },
    {
      "cell_type": "code",
      "source": [
        "def get_cos_sim(row): \n",
        "  # Convert the generated poetry and original keywords into embeddings\n",
        "  generated_embedding = model.encode([row['text']])\n",
        "  keywords_embedding = model.encode([row['keywords']])\n",
        "\n",
        "  # Compute the cosine similarity between the generated poetry and original keywords\n",
        "  cos_sim = cosine_similarity(generated_embedding, keywords_embedding)[0][0]\n",
        "  return cos_sim\n",
        "\n",
        "# Print the cosine similarity score\n",
        "print(f\"The cosine similarity between the real poetry and original keywords is: {get_cos_sim(real_poetry_df)}\")\n",
        "print(f\"The cosine similarity between the generated medium poetry and original keywords is: {get_cos_sim(generated_medium_df)}\")\n",
        "print(f\"The cosine similarity between the generated large poetry and original keywords is: {get_cos_sim(generated_large_df)}\")\n",
        "print()\n",
        "print('Processing real')\n",
        "real_poetry_df['cos_sim'] = real_poetry_df.apply(get_cos_sim, axis = 1)\n",
        "print('Processing generated medium')\n",
        "generated_medium_df['cos_sim'] = generated_medium_df.apply(get_cos_sim, axis = 1)\n",
        "print('Processing generated large')\n",
        "generated_large_df['cos_sim'] = generated_large_df.apply(get_cos_sim, axis = 1)"
      ],
      "metadata": {
        "colab": {
          "base_uri": "https://localhost:8080/"
        },
        "id": "-7xzf5P5z4zO",
        "outputId": "6243f2ae-675c-491c-92cf-ae04cafec6ef"
      },
      "execution_count": null,
      "outputs": [
        {
          "output_type": "stream",
          "name": "stdout",
          "text": [
            "The cosine similarity between the real poetry and original keywords is: 0.9467449188232422\n",
            "The cosine similarity between the generated medium poetry and original keywords is: 0.9614182710647583\n",
            "The cosine similarity between the generated large poetry and original keywords is: 0.9588751196861267\n",
            "\n",
            "Processing real\n",
            "Processing generated medium\n",
            "Processing generated large\n"
          ]
        }
      ]
    },
    {
      "cell_type": "code",
      "source": [
        "real_poetry_df['cos_sim'].describe().round(3)"
      ],
      "metadata": {
        "id": "PWm_NYpY7XpM",
        "colab": {
          "base_uri": "https://localhost:8080/"
        },
        "outputId": "350e4a89-67bf-402c-9851-e1f5d0ab0b65"
      },
      "execution_count": null,
      "outputs": [
        {
          "output_type": "execute_result",
          "data": {
            "text/plain": [
              "count    7755.000\n",
              "mean        0.915\n",
              "std         0.025\n",
              "min         0.680\n",
              "25%         0.901\n",
              "50%         0.917\n",
              "75%         0.932\n",
              "max         0.983\n",
              "Name: cos_sim, dtype: float64"
            ]
          },
          "metadata": {},
          "execution_count": 26
        }
      ]
    },
    {
      "cell_type": "code",
      "source": [
        "generated_medium_df['cos_sim'].describe().round(3)"
      ],
      "metadata": {
        "colab": {
          "base_uri": "https://localhost:8080/"
        },
        "id": "wV4UPA9tEKL8",
        "outputId": "54cd41d5-5c55-467a-e613-bd52937ffe9a"
      },
      "execution_count": null,
      "outputs": [
        {
          "output_type": "execute_result",
          "data": {
            "text/plain": [
              "count    7755.000\n",
              "mean        0.910\n",
              "std         0.023\n",
              "min         0.673\n",
              "25%         0.897\n",
              "50%         0.912\n",
              "75%         0.925\n",
              "max         0.971\n",
              "Name: cos_sim, dtype: float64"
            ]
          },
          "metadata": {},
          "execution_count": 25
        }
      ]
    },
    {
      "cell_type": "markdown",
      "source": [],
      "metadata": {
        "id": "ObWyf2jjX5wW"
      }
    },
    {
      "cell_type": "code",
      "source": [
        "generated_large_df['cos_sim'].describe().round(3)"
      ],
      "metadata": {
        "colab": {
          "base_uri": "https://localhost:8080/"
        },
        "id": "BesPST4EERlz",
        "outputId": "3c44c5b7-6c43-48bd-94b2-16792d335e1f"
      },
      "execution_count": null,
      "outputs": [
        {
          "output_type": "execute_result",
          "data": {
            "text/plain": [
              "count    7755.000\n",
              "mean        0.910\n",
              "std         0.024\n",
              "min         0.488\n",
              "25%         0.897\n",
              "50%         0.912\n",
              "75%         0.925\n",
              "max         0.979\n",
              "Name: cos_sim, dtype: float64"
            ]
          },
          "metadata": {},
          "execution_count": 24
        }
      ]
    },
    {
      "cell_type": "code",
      "source": [
        "%cd generating_poetry"
      ],
      "metadata": {
        "colab": {
          "base_uri": "https://localhost:8080/"
        },
        "id": "rLChzLm75H18",
        "outputId": "298eda4f-5f0b-4a33-b96b-104432e0ae4c"
      },
      "execution_count": null,
      "outputs": [
        {
          "output_type": "stream",
          "name": "stdout",
          "text": [
            "/home/revolt/generating_poetry\n"
          ]
        }
      ]
    },
    {
      "cell_type": "markdown",
      "source": [
        "#Connect to device"
      ],
      "metadata": {
        "id": "XqeWKsqtscch"
      }
    },
    {
      "cell_type": "code",
      "source": [
        "import os \n",
        "os.environ['CUDA_VISIBLE_DEVICES'] = '1'\n",
        "os.environ['CUDA_LAUNCH_BLOCKING'] = '1'"
      ],
      "metadata": {
        "id": "rNGOzlCWrRF5"
      },
      "execution_count": null,
      "outputs": []
    },
    {
      "cell_type": "code",
      "source": [
        "import torch\n",
        "device = torch.device('cuda:0')\n",
        "torch.cuda.get_device_name(0)"
      ],
      "metadata": {
        "id": "7iydo8k_sTNM",
        "colab": {
          "base_uri": "https://localhost:8080/"
        },
        "outputId": "0341bf82-0c4c-4d41-f483-1e6ad517f819"
      },
      "execution_count": null,
      "outputs": [
        {
          "output_type": "execute_result",
          "data": {
            "text/plain": [
              "'Quadro RTX 6000'"
            ]
          },
          "metadata": {},
          "execution_count": 2
        }
      ]
    },
    {
      "cell_type": "code",
      "source": [
        "# !pip install datasets"
      ],
      "metadata": {
        "id": "kVSRCD8eCtQg"
      },
      "execution_count": null,
      "outputs": []
    },
    {
      "cell_type": "markdown",
      "source": [
        "# image and poetry similarity"
      ],
      "metadata": {
        "id": "LEs0s-ukBvCP"
      }
    },
    {
      "cell_type": "code",
      "source": [
        "from datasets import load_dataset\n",
        "\n",
        "dataset = load_dataset('AnyaSchen/image2poetry_ru')"
      ],
      "metadata": {
        "id": "D3WRNzrnC1Uo",
        "colab": {
          "base_uri": "https://localhost:8080/"
        },
        "outputId": "0f83c3cd-8413-4b7c-fd18-8fb959d5c89d"
      },
      "execution_count": null,
      "outputs": [
        {
          "output_type": "stream",
          "name": "stderr",
          "text": [
            "Found cached dataset parquet (/home/revolt/.cache/huggingface/datasets/AnyaSchen___parquet/AnyaSchen--image2poetry_ru-bd53c8b353e828ac/0.0.0/2a3b91fbd88a2c90d1dbbb32b460cf621d31bd5b05b934492fdef7d8d6f236ec)\n",
            "100%|█████████████████████████████████████████████████| 1/1 [00:00<00:00, 382.06it/s]\n"
          ]
        }
      ]
    },
    {
      "cell_type": "code",
      "source": [
        "import torch\n",
        "from torchvision.transforms import Compose, Resize, CenterCrop, ToTensor, Normalize\n",
        "from PIL import Image\n",
        "from sentence_transformers import SentenceTransformer\n",
        "from sklearn.metrics.pairwise import cosine_similarity"
      ],
      "metadata": {
        "id": "ijPP161io7zg"
      },
      "execution_count": null,
      "outputs": []
    },
    {
      "cell_type": "code",
      "source": [
        "import pickle"
      ],
      "metadata": {
        "id": "ms4x3HJvtnH6"
      },
      "execution_count": null,
      "outputs": []
    },
    {
      "cell_type": "code",
      "source": [
        "def save_embeddings(embeddings_dict: dict, path:str):\n",
        "  with open(path, 'wb') as f:\n",
        "    pickle.dump(embeddings_dict, f)\n",
        "  print(f'Saved {path}')"
      ],
      "metadata": {
        "id": "AAs8Xjs4tcaZ"
      },
      "execution_count": null,
      "outputs": []
    },
    {
      "cell_type": "code",
      "source": [
        "dataset"
      ],
      "metadata": {
        "id": "__15MmAJC9wv",
        "colab": {
          "base_uri": "https://localhost:8080/"
        },
        "outputId": "5b3ba162-4949-4b96-d466-5a9a9263a4fb"
      },
      "execution_count": null,
      "outputs": [
        {
          "output_type": "execute_result",
          "data": {
            "text/plain": [
              "DatasetDict({\n",
              "    train: Dataset({\n",
              "        features: ['image', 'poetry', 'author'],\n",
              "        num_rows: 7755\n",
              "    })\n",
              "})"
            ]
          },
          "metadata": {},
          "execution_count": 7
        }
      ]
    },
    {
      "cell_type": "code",
      "source": [
        "img_model = SentenceTransformer('clip-ViT-B-32').to(device)\n",
        "\n",
        "image_embedding = img_model.encode(dataset['train']['image'])"
      ],
      "metadata": {
        "id": "Sdagx0GJps8J",
        "colab": {
          "base_uri": "https://localhost:8080/"
        },
        "outputId": "130ae9bb-ece3-4c44-c899-e763bcfe3bd4"
      },
      "execution_count": null,
      "outputs": [
        {
          "output_type": "stream",
          "name": "stderr",
          "text": [
            "Downloading (…)d52eb/.gitattributes: 100%|███████████| 690/690 [00:00<00:00, 247kB/s]\n",
            "Downloading (…)LIPModel/config.json: 100%|██████| 4.03k/4.03k [00:00<00:00, 1.94MB/s]\n",
            "Downloading (…)CLIPModel/merges.txt: 100%|█████████| 525k/525k [00:00<00:00, 866kB/s]\n",
            "Downloading (…)rocessor_config.json: 100%|███████████| 316/316 [00:00<00:00, 318kB/s]\n",
            "Downloading pytorch_model.bin: 100%|██████████████| 605M/605M [09:14<00:00, 1.09MB/s]\n",
            "Downloading (…)cial_tokens_map.json: 100%|███████████| 389/389 [00:00<00:00, 196kB/s]\n",
            "Downloading (…)okenizer_config.json: 100%|███████████| 604/604 [00:00<00:00, 574kB/s]\n",
            "Downloading (…)CLIPModel/vocab.json: 100%|█████████| 961k/961k [00:01<00:00, 932kB/s]\n",
            "Downloading (…)859cad52eb/README.md: 100%|██████| 1.88k/1.88k [00:00<00:00, 1.86MB/s]\n",
            "Downloading (…)ce_transformers.json: 100%|██████████| 116/116 [00:00<00:00, 94.3kB/s]\n",
            "Downloading (…)cad52eb/modules.json: 100%|██████████| 122/122 [00:00<00:00, 98.0kB/s]\n"
          ]
        }
      ]
    },
    {
      "cell_type": "code",
      "source": [
        "save_embeddings({'image': image_embedding}, './embeddings/embeddings_image.pkl')"
      ],
      "metadata": {
        "id": "snsT1tcftbia",
        "colab": {
          "base_uri": "https://localhost:8080/"
        },
        "outputId": "f3baa959-5d14-4d9a-8ce8-ef17e77de28d"
      },
      "execution_count": null,
      "outputs": [
        {
          "output_type": "stream",
          "name": "stdout",
          "text": [
            "Saved ./embeddings_image.pkl\n"
          ]
        }
      ]
    },
    {
      "cell_type": "code",
      "source": [
        "del img_model"
      ],
      "metadata": {
        "id": "Joi_zM723ovN"
      },
      "execution_count": null,
      "outputs": []
    },
    {
      "cell_type": "markdown",
      "source": [
        "# get embeddings for poetry"
      ],
      "metadata": {
        "id": "RK09XfU7tMOu"
      }
    },
    {
      "cell_type": "code",
      "source": [
        "def load_poetry(path):\n",
        "  with open(path, 'rb') as f:\n",
        "    generated_poetry = pickle.load(f)\n",
        "  return generated_poetry"
      ],
      "metadata": {
        "id": "T8B_K0yZygRJ"
      },
      "execution_count": null,
      "outputs": []
    },
    {
      "cell_type": "code",
      "source": [
        "# Load the pre-trained CLIP model\n",
        "model = SentenceTransformer('sentence-transformers/clip-ViT-B-32-multilingual-v1').to(device)"
      ],
      "metadata": {
        "id": "ZsGyk2g0BtYx"
      },
      "execution_count": null,
      "outputs": []
    },
    {
      "cell_type": "code",
      "source": [
        "%cd generating_poetry"
      ],
      "metadata": {
        "colab": {
          "base_uri": "https://localhost:8080/"
        },
        "id": "Kwio0TqwATWW",
        "outputId": "4d7e9f38-7a17-4915-9026-032250b9651e"
      },
      "execution_count": null,
      "outputs": [
        {
          "output_type": "stream",
          "name": "stdout",
          "text": [
            "/home/revolt/generating_poetry\n"
          ]
        }
      ]
    },
    {
      "cell_type": "code",
      "source": [
        "%ls"
      ],
      "metadata": {
        "colab": {
          "base_uri": "https://localhost:8080/"
        },
        "id": "hHXJqbUeAc6G",
        "outputId": "bea50b90-6fd9-471d-f678-d2e226cc6cd5"
      },
      "execution_count": null,
      "outputs": [
        {
          "output_type": "stream",
          "name": "stdout",
          "text": [
            "\u001b[0m\u001b[01;34manaconda3\u001b[0m/            \u001b[01;34mgenerating_poetry\u001b[0m/  \u001b[01;34mimage2poetry_ru_2\u001b[0m/   \u001b[01;34mpoets\u001b[0m/\r\n",
            "embeddings_image.pkl  \u001b[01;34mimage2music_min\u001b[0m/    \u001b[01;34mimage2poetry_ru_ft\u001b[0m/\r\n",
            "\u001b[01;34mgenerating_music\u001b[0m/     \u001b[01;34mimage2poetry_ru\u001b[0m/    \u001b[01;34mpoetry_large_gpt3\u001b[0m/\r\n"
          ]
        }
      ]
    },
    {
      "cell_type": "code",
      "source": [
        "poetry_all = {}\n",
        "for poet in os.listdir('../poets'):\n",
        "  poetry = load_poetry(f'../poets/{poet}/generated_image2poetry_vit_rugpt2_{poet}.pkl')\n",
        "  for author in poetry:\n",
        "    poetry_all[author] = poetry[author]"
      ],
      "metadata": {
        "id": "JQYEMHCQwe1n"
      },
      "execution_count": null,
      "outputs": []
    },
    {
      "cell_type": "code",
      "source": [
        "from tqdm import tqdm"
      ],
      "metadata": {
        "id": "OleOfmPxBMTZ"
      },
      "execution_count": null,
      "outputs": []
    },
    {
      "cell_type": "code",
      "source": [
        "def from_pkl_to_list(data_dict):\n",
        "  data_list = []\n",
        "\n",
        "  for i in tqdm(range(1, dataset['train'].num_rows)):\n",
        "\n",
        "  author = dataset['train'][0]['author']\n",
        "  for i in tqdm(range(1, dataset['train'].num_rows)):\n",
        "    author_curr = dataset['train'][i]['author']\n",
        "    if author_curr != author:\n",
        "      for el in data_dict[author]:\n",
        "        data_list.append(el)\n",
        "      author = author_curr\n",
        "\n",
        "  return data_list"
      ],
      "metadata": {
        "id": "og-PseC5ymDR"
      },
      "execution_count": null,
      "outputs": []
    },
    {
      "cell_type": "code",
      "source": [
        "dataset['train']['author']"
      ],
      "metadata": {
        "id": "Esk9UGegBtW5"
      },
      "execution_count": null,
      "outputs": []
    },
    {
      "cell_type": "code",
      "source": [
        "# generated_image2_one_poet = model.encode(from_pkl_to_list(poetry_all))\n",
        "# generated_fp16 = model.encode(from_pkl_to_list(load_poetry(f'../image2poetry_ru/generated_image2poetry_vit_rugpt2_fune_fp16.pkl')))\n",
        "# generated_fp32 = model.encode(from_pkl_to_list(load_poetry(f'../image2poetry_ru_2/generated_image2poetry_vit_rugpt2_fn_f32.pkl')))\n",
        "# generated_ft = model.encode(from_pkl_to_list(load_poetry(f'../image2poetry_ru_ft/generated_image2poetry_vit_rugpt2_ft.pkl')))\n",
        "real_poetry_embedding = model.encode(dataset['train']['poetry'])"
      ],
      "metadata": {
        "id": "7MRADQe80Bqn"
      },
      "execution_count": null,
      "outputs": []
    },
    {
      "cell_type": "code",
      "source": [
        "save_embeddings({\n",
        "    'vit-rugpt3-medium-poet': generated_image2_one_poet,\n",
        "    'vit-rugpt3-large-poetry-fp32': generated_fp32,\n",
        "    'vit-rugpt3-large-poetry-fp16': generated_fp16,\n",
        "    'vit-rugpt3-large-poetry-ft':generated_ft,\n",
        "    'real': real_poetry_embedding\n",
        "    }, './embeddings_poetry_for_image.pkl')"
      ],
      "metadata": {
        "id": "ENIoh8Bhzrj9"
      },
      "execution_count": null,
      "outputs": []
    },
    {
      "cell_type": "code",
      "source": [
        "real_poetries = [dataset['train'][i]['poetry'] for i in range(dataset['train'].num_rows)]\n",
        "\n",
        "# Encode the generated poetry\n",
        "poetry_embedding = model.encode(dataset['train']['poetry'])"
      ],
      "metadata": {
        "id": "I-EN1WMnFN9y"
      },
      "execution_count": null,
      "outputs": []
    },
    {
      "cell_type": "markdown",
      "source": [
        "# image and music similarity"
      ],
      "metadata": {
        "id": "HkFlzpEanaHW"
      }
    },
    {
      "cell_type": "code",
      "source": [
        "image_embedding = load_poetry('./embeddings_image.pkl')"
      ],
      "metadata": {
        "id": "bId2PDVHHXNY"
      },
      "execution_count": null,
      "outputs": []
    },
    {
      "cell_type": "code",
      "source": [
        "def avg_cosine_similarity(embeddings1, embeddings2):\n",
        "    # device = torch.device(\"cuda\" if torch.cuda.is_available() else \"cpu\")\n",
        "\n",
        "    embeddings1 = torch.tensor(embeddings1).cpu()\n",
        "    embeddings2 = torch.tensor(embeddings2).cpu()\n",
        "\n",
        "    total_similarity = 0\n",
        "    n = len(embeddings1)\n",
        "\n",
        "    for emb1 in embeddings1:\n",
        "        emb1 = emb1.unsqueeze(0)\n",
        "        similarities = cosine_similarity(emb1, embeddings2)\n",
        "        total_similarity += similarities.max().item()\n",
        "\n",
        "    return total_similarity / n"
      ],
      "metadata": {
        "id": "JOAQEzSdHIfL"
      },
      "execution_count": null,
      "outputs": []
    },
    {
      "cell_type": "code",
      "source": [
        "avg_cosine_similarity(real_poetry_embedding,image_embedding['image'])"
      ],
      "metadata": {
        "colab": {
          "base_uri": "https://localhost:8080/"
        },
        "id": "UAPFH6EQHrAG",
        "outputId": "aaba44a4-4a06-4aca-cdcc-8d6a10ab3e1c"
      },
      "execution_count": null,
      "outputs": [
        {
          "output_type": "execute_result",
          "data": {
            "text/plain": [
              "0.27993002415164525"
            ]
          },
          "metadata": {},
          "execution_count": 34
        }
      ]
    }
  ]
}