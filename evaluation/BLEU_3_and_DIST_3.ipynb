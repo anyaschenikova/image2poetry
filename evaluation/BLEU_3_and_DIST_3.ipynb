{
  "nbformat": 4,
  "nbformat_minor": 0,
  "metadata": {
    "colab": {
      "provenance": []
    },
    "kernelspec": {
      "name": "python3",
      "display_name": "Python 3"
    },
    "language_info": {
      "name": "python"
    }
  },
  "cells": [
    {
      "cell_type": "markdown",
      "source": [
        "[![Open In Colab](https://colab.research.google.com/assets/colab-badge.svg)](https://colab.research.google.com/drive/1U9fI5iPjMGqSfs0YSMzpDa2GKLQYSf4x?usp=sharing)\n"
      ],
      "metadata": {
        "id": "B1_DmaKZ2iWN"
      }
    },
    {
      "cell_type": "code",
      "source": [
        "# !pip install datasets"
      ],
      "metadata": {
        "id": "kVSRCD8eCtQg"
      },
      "execution_count": null,
      "outputs": []
    },
    {
      "cell_type": "code",
      "source": [
        "from datasets import load_dataset\n",
        "\n",
        "dataset = load_dataset('AnyaSchen/image2poetry_ru')"
      ],
      "metadata": {
        "id": "D3WRNzrnC1Uo",
        "colab": {
          "base_uri": "https://localhost:8080/"
        },
        "outputId": "0f83c3cd-8413-4b7c-fd18-8fb959d5c89d"
      },
      "execution_count": null,
      "outputs": [
        {
          "output_type": "stream",
          "name": "stderr",
          "text": [
            "Found cached dataset parquet (/home/revolt/.cache/huggingface/datasets/AnyaSchen___parquet/AnyaSchen--image2poetry_ru-bd53c8b353e828ac/0.0.0/2a3b91fbd88a2c90d1dbbb32b460cf621d31bd5b05b934492fdef7d8d6f236ec)\n",
            "100%|█████████████████████████████████████████████████| 1/1 [00:00<00:00, 382.06it/s]\n"
          ]
        }
      ]
    },
    {
      "cell_type": "code",
      "source": [
        "import pickle\n",
        "with open('../generated/image2poetry/vit_rugpt2_ft.pkl', 'rb') as f:\n",
        "  data_dict = pickle.load(f)"
      ],
      "metadata": {
        "id": "1l7STEo4qGSZ"
      },
      "execution_count": null,
      "outputs": []
    },
    {
      "cell_type": "code",
      "source": [
        "from nltk.translate.bleu_score import sentence_bleu, SmoothingFunction\n",
        "from collections import Counter\n",
        "\n",
        "def calculate_distinct_n(words, n):\n",
        "    # tokenize the text into words, assuming whitespace separated words\n",
        "    # words = text.split()\n",
        "    \n",
        "    # calculate n-grams\n",
        "    n_grams = [tuple(words[i:i+n]) for i in range(len(words)-n+1)]\n",
        "    \n",
        "    # count distinct n-grams\n",
        "    distinct_n_grams = len(set(n_grams))\n",
        "    \n",
        "    # count total n-grams\n",
        "    total_n_grams = len(n_grams)\n",
        "    \n",
        "    # return ratio of distinct n-grams to total n-grams\n",
        "    return distinct_n_grams / total_n_grams if total_n_grams != 0 else 0"
      ],
      "metadata": {
        "id": "nhN_RYUYREz7"
      },
      "execution_count": null,
      "outputs": []
    },
    {
      "cell_type": "code",
      "source": [
        "metrics = []\n",
        "for poet in set(dataset['train'][\"author\"]):\n",
        "  mayak_data = dataset.filter(lambda example, indice: example['author']==poet, with_indices=True)\n",
        "  print(poet)\n",
        "  reference_codes_tokenized = [code.split() for code in mayak_data['train']['poetry']]\n",
        "  generated_codes_tokenized = [code.split() for code in data_dict[poet]]\n",
        "\n",
        "  # Calculate BLEU scores\n",
        "  bleu_scores = [sentence_bleu([reference], generated, weights=(0,0, 1, 0), smoothing_function=SmoothingFunction().method1) \n",
        "                for reference, generated in zip(reference_codes_tokenized, generated_codes_tokenized)]\n",
        "  average_bleu_score = sum(bleu_scores) / len(bleu_scores)\n",
        "  print(f'Average BLEU score: {average_bleu_score}')\n",
        "\n",
        "  # Calculate distinct-n scores\n",
        "  distinct_n_scores = [calculate_distinct_n(code, n=3) for code in generated_codes_tokenized]  # Here, n=3\n",
        "  average_distinct_n_score = sum(distinct_n_scores) / len(distinct_n_scores)\n",
        "  print(f'Average Distinct-2 score: {average_distinct_n_score}')\n",
        "  metrics.append([poet, average_bleu_score, average_distinct_n_score])"
      ],
      "metadata": {
        "id": "JwHTyBPEL9HE",
        "colab": {
          "base_uri": "https://localhost:8080/"
        },
        "outputId": "0aa4af44-b3b9-4999-b62a-909ae31dc842"
      },
      "execution_count": null,
      "outputs": [
        {
          "output_type": "stream",
          "name": "stderr",
          "text": [
            "Loading cached processed dataset at /home/revolt/.cache/huggingface/datasets/AnyaSchen___parquet/AnyaSchen--image2poetry_ru-bd53c8b353e828ac/0.0.0/2a3b91fbd88a2c90d1dbbb32b460cf621d31bd5b05b934492fdef7d8d6f236ec/cache-cd7e63f6d721a8e4.arrow\n"
          ]
        },
        {
          "output_type": "stream",
          "name": "stdout",
          "text": [
            "Маяковский\n"
          ]
        },
        {
          "output_type": "stream",
          "name": "stderr",
          "text": [
            "Loading cached processed dataset at /home/revolt/.cache/huggingface/datasets/AnyaSchen___parquet/AnyaSchen--image2poetry_ru-bd53c8b353e828ac/0.0.0/2a3b91fbd88a2c90d1dbbb32b460cf621d31bd5b05b934492fdef7d8d6f236ec/cache-6c42722919799f03.arrow\n"
          ]
        },
        {
          "output_type": "stream",
          "name": "stdout",
          "text": [
            "Average BLEU score: 0.34667270552819446\n",
            "Average Distinct-2 score: 0.9725527274614757\n",
            "Блок\n"
          ]
        },
        {
          "output_type": "stream",
          "name": "stderr",
          "text": [
            "Loading cached processed dataset at /home/revolt/.cache/huggingface/datasets/AnyaSchen___parquet/AnyaSchen--image2poetry_ru-bd53c8b353e828ac/0.0.0/2a3b91fbd88a2c90d1dbbb32b460cf621d31bd5b05b934492fdef7d8d6f236ec/cache-f4a82f1f6cbc5605.arrow\n"
          ]
        },
        {
          "output_type": "stream",
          "name": "stdout",
          "text": [
            "Average BLEU score: 0.2482589634912962\n",
            "Average Distinct-2 score: 0.96984013592479\n",
            "Есенин\n",
            "Average BLEU score: 0.5606370571897304\n",
            "Average Distinct-2 score: 0.9782553795742579\n"
          ]
        },
        {
          "output_type": "stream",
          "name": "stderr",
          "text": []
        },
        {
          "output_type": "stream",
          "name": "stdout",
          "text": [
            "Тютчев\n",
            "Average BLEU score: 0.30301646490728834\n",
            "Average Distinct-2 score: 0.9779230590544945\n"
          ]
        },
        {
          "output_type": "stream",
          "name": "stderr",
          "text": []
        },
        {
          "output_type": "stream",
          "name": "stdout",
          "text": [
            "Пушкин\n",
            "Average BLEU score: 0.3120432976279029\n",
            "Average Distinct-2 score: 0.9882043421808078\n"
          ]
        }
      ]
    }
  ]
}