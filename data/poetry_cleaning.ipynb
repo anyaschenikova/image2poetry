{
  "nbformat": 4,
  "nbformat_minor": 0,
  "metadata": {
    "colab": {
      "provenance": [],
      "toc_visible": true
    },
    "kernelspec": {
      "name": "python3",
      "display_name": "Python 3"
    },
    "language_info": {
      "name": "python"
    }
  },
  "cells": [
    {
      "cell_type": "markdown",
      "source": [
        "[![Open In Colab](https://colab.research.google.com/assets/colab-badge.svg)](https://colab.research.google.com/drive/1eGgi8kYolhlCN1aPXAYxk4_HJ7C-Kw4t#scrollTo=wJJnj6OVfnEE)\n"
      ],
      "metadata": {
        "id": "wJJnj6OVfnEE"
      }
    },
    {
      "cell_type": "markdown",
      "source": [
        "## imports"
      ],
      "metadata": {
        "id": "dkoivMUJQXpy"
      }
    },
    {
      "cell_type": "code",
      "source": [
        "import pandas as pd\n",
        "import numpy as np"
      ],
      "metadata": {
        "id": "FMq3D8d5PuX2"
      },
      "execution_count": null,
      "outputs": []
    },
    {
      "cell_type": "code",
      "source": [
        "import nltk\n",
        "nltk.download('punkt')\n",
        "\n",
        "bad_new_line_symbols = '(\\n)'"
      ],
      "metadata": {
        "colab": {
          "base_uri": "https://localhost:8080/"
        },
        "id": "rF9zSA4n9kzg",
        "outputId": "485d9d88-9e77-4be5-fe40-3ae2e2f3109f"
      },
      "execution_count": null,
      "outputs": [
        {
          "output_type": "stream",
          "name": "stderr",
          "text": [
            "[nltk_data] Downloading package punkt to /root/nltk_data...\n",
            "[nltk_data]   Package punkt is already up-to-date!\n"
          ]
        }
      ]
    },
    {
      "cell_type": "code",
      "source": [
        "!wget https://www.dropbox.com/s/zjw0mgyuctzmglc/classic_poems.json?dl=0 -O classic_poems.json"
      ],
      "metadata": {
        "colab": {
          "base_uri": "https://localhost:8080/"
        },
        "id": "zJ1arSQayqd6",
        "outputId": "80ae0092-68a9-458b-cdf7-f5f34b733fb5"
      },
      "execution_count": null,
      "outputs": [
        {
          "output_type": "stream",
          "name": "stdout",
          "text": [
            "--2023-05-06 13:59:00--  https://www.dropbox.com/s/zjw0mgyuctzmglc/classic_poems.json?dl=0\n",
            "Resolving www.dropbox.com (www.dropbox.com)... 162.125.1.18, 2620:100:6016:18::a27d:112\n",
            "Connecting to www.dropbox.com (www.dropbox.com)|162.125.1.18|:443... connected.\n",
            "HTTP request sent, awaiting response... 302 Found\n",
            "Location: /s/raw/zjw0mgyuctzmglc/classic_poems.json [following]\n",
            "--2023-05-06 13:59:01--  https://www.dropbox.com/s/raw/zjw0mgyuctzmglc/classic_poems.json\n",
            "Reusing existing connection to www.dropbox.com:443.\n",
            "HTTP request sent, awaiting response... 302 Found\n",
            "Location: https://uceeab1b781db57285ce2506a404.dl.dropboxusercontent.com/cd/0/inline/B7grj1ExW-5kWxZQY4r3SAPw3hSdPEwpnwuXL6actHxL5nCZ9JAIBRzK9ZJrEz3Tb87V66136miCJ7EaIWpQPw7mKgvMMYBTfnZQqpRUQjEKzRvRJ_2gjWRx1af0mhSLTbt6_613r-xMsvXxidQ8kNLBxFwkEmzYTY-b2-T5M1D3EQ/file# [following]\n",
            "--2023-05-06 13:59:01--  https://uceeab1b781db57285ce2506a404.dl.dropboxusercontent.com/cd/0/inline/B7grj1ExW-5kWxZQY4r3SAPw3hSdPEwpnwuXL6actHxL5nCZ9JAIBRzK9ZJrEz3Tb87V66136miCJ7EaIWpQPw7mKgvMMYBTfnZQqpRUQjEKzRvRJ_2gjWRx1af0mhSLTbt6_613r-xMsvXxidQ8kNLBxFwkEmzYTY-b2-T5M1D3EQ/file\n",
            "Resolving uceeab1b781db57285ce2506a404.dl.dropboxusercontent.com (uceeab1b781db57285ce2506a404.dl.dropboxusercontent.com)... 162.125.1.15, 2620:100:6023:15::a27d:430f\n",
            "Connecting to uceeab1b781db57285ce2506a404.dl.dropboxusercontent.com (uceeab1b781db57285ce2506a404.dl.dropboxusercontent.com)|162.125.1.15|:443... connected.\n",
            "HTTP request sent, awaiting response... 200 OK\n",
            "Length: 3850667 (3.7M) [text/plain]\n",
            "Saving to: ‘classic_poems.json’\n",
            "\n",
            "classic_poems.json  100%[===================>]   3.67M  --.-KB/s    in 0.05s   \n",
            "\n",
            "2023-05-06 13:59:02 (73.9 MB/s) - ‘classic_poems.json’ saved [3850667/3850667]\n",
            "\n"
          ]
        }
      ]
    },
    {
      "cell_type": "markdown",
      "source": [
        "## func"
      ],
      "metadata": {
        "id": "bl7IluJDQbzX"
      }
    },
    {
      "cell_type": "code",
      "source": [
        "import re\n",
        "\n",
        "def clean_text(text):\n",
        "    # Remove all non-Russian letters\n",
        "\n",
        "    if '\\xa0' in text:\n",
        "      text = text.replace('\\xa0', '')\n",
        "    if '<?>' in text:\n",
        "      text = text.replace('<?>', '')\n",
        "    \n",
        "\n",
        "    cleaned_text = re.sub(r\"[^а-яА-ЯёЁ\\s\\.,!?;:«»—\\n–\\u2003\\u2004]\", \"\", text)\n",
        "    \n",
        "    # Remove extra whitespace\n",
        "    cleaned_text = re.sub(r\"[\\t ]+\", \" \", cleaned_text)\n",
        "    cleaned_text = re.sub(r\"\\n[\\n]+\", \"\\n\", cleaned_text).strip()\n",
        "    \n",
        "    \n",
        "    return cleaned_text\n",
        "\n",
        "# Example usage\n",
        "text = \"Текст на русском языке c примерами 1234 и символами @$%!..\\n Это предложение содержит много пунктуации!!!!\\n\"\n",
        "cleaned_text = clean_text(text)\n",
        "print(cleaned_text)"
      ],
      "metadata": {
        "colab": {
          "base_uri": "https://localhost:8080/"
        },
        "id": "zsEuk3TLy2ie",
        "outputId": "ffcac442-8255-45d3-8ede-6093e9e35135"
      },
      "execution_count": null,
      "outputs": [
        {
          "output_type": "stream",
          "name": "stdout",
          "text": [
            "Текст на русском языке примерами и символами !..\n",
            " Это предложение содержит много пунктуации!!!!\n"
          ]
        }
      ]
    },
    {
      "cell_type": "code",
      "source": [
        "def merge_lowercase(sentences):\n",
        "    merged_sentences = []\n",
        "    for sentence in sentences:\n",
        "        if merged_sentences and sentence and sentence[0].islower():\n",
        "            merged_sentences[-1] += ' ' + sentence\n",
        "        else:\n",
        "            merged_sentences.append(sentence)\n",
        "    return merged_sentences"
      ],
      "metadata": {
        "id": "iaFqQ2zw9PpR"
      },
      "execution_count": null,
      "outputs": []
    },
    {
      "cell_type": "code",
      "source": [
        "def fix_new_line_symbol(sentences, bad_new_line_symbols = bad_new_line_symbols):\n",
        "  for i in range(len(sentences)):\n",
        "    if sentences[i].startswith(bad_new_line_symbols):\n",
        "        sentences[i-1] += '\\n'\n",
        "        sentences[i] = sentences[i][len(bad_new_line_symbols):]\n",
        "    sentences[i] = sentences[i].replace(bad_new_line_symbols, '\\n')\n",
        "  return sentences"
      ],
      "metadata": {
        "id": "V7fhxGwj9XsW"
      },
      "execution_count": null,
      "outputs": []
    },
    {
      "cell_type": "code",
      "source": [
        "def preprocess(document):\n",
        "    sentences = nltk.sent_tokenize(document) \n",
        "    sentences = fix_new_line_symbol(sentences)\n",
        "    sentences = merge_lowercase(sentences)\n",
        "    return sentences"
      ],
      "metadata": {
        "id": "LV9jBUee9Rlb"
      },
      "execution_count": null,
      "outputs": []
    },
    {
      "cell_type": "code",
      "source": [
        "def remove_non_rhyme_text(text, len_line = 15):\n",
        "  text_list = text.split('\\n')\n",
        "\n",
        "  new_text = ''\n",
        "  for line in text_list:\n",
        "    if len(line.split()) <= len_line:\n",
        "      new_text += line + '\\n'\n",
        "  \n",
        "  return new_text"
      ],
      "metadata": {
        "id": "b10Xk8cSKSUv"
      },
      "execution_count": null,
      "outputs": []
    },
    {
      "cell_type": "code",
      "source": [
        "mayak_len_lines = 8\n",
        "len_lines = 12\n",
        "min_len_lines = 4"
      ],
      "metadata": {
        "id": "bKlscioxWiz5"
      },
      "execution_count": null,
      "outputs": []
    },
    {
      "cell_type": "code",
      "source": [
        "def split_text(text, min_len_lines):\n",
        "  parts = []\n",
        "\n",
        "  text = remove_non_rhyme_text(text)\n",
        "\n",
        "  if 4 < len(text.split('\\n')) < 20:\n",
        "    return [text]\n",
        "  elif 4 >= len(text.split('\\n')):\n",
        "    return np.nan\n",
        "\n",
        "  sentences = preprocess(text.replace('\\n', bad_new_line_symbols)) \n",
        "\n",
        "  curr_sent = ''\n",
        "\n",
        "  for sent in sentences:\n",
        "    curr_sent += sent\n",
        "    sent_len = len(sent.split('\\n'))\n",
        "\n",
        "    curr_sent_len = len(curr_sent.split('\\n'))\n",
        "\n",
        "    if curr_sent_len >= len_lines:\n",
        "\n",
        "      parts.append(curr_sent)\n",
        "      curr_sent = ''\n",
        "      continue\n",
        "    if sent_len % 2 != 0 and sent_len >= min_len_lines:\n",
        "\n",
        "      parts.append(sent)\n",
        "      curr_sent = ''\n",
        "  return parts"
      ],
      "metadata": {
        "id": "YaiewrTa3WS2"
      },
      "execution_count": null,
      "outputs": []
    },
    {
      "cell_type": "code",
      "source": [
        "def split_data(row, mayak_len_lines, min_len_lines):\n",
        "  if row['poet_id'] == 'mayakovskij':\n",
        "    return split_text(row['content'], mayak_len_lines)\n",
        "  else:\n",
        "    return split_text(row['content'], min_len_lines)"
      ],
      "metadata": {
        "id": "PWaTxcfqVyn9"
      },
      "execution_count": null,
      "outputs": []
    },
    {
      "cell_type": "code",
      "source": [
        "def make_clear_dataset(df:pd.DataFrame):\n",
        "  # чистим поэзию\n",
        "  df['content'] = df['content'].apply(clean_text)\n",
        "\n",
        "  # избавляемся от французского\n",
        "  df = df[df['title'] != 'Стихотворения, написанные на французском языке']\n",
        "\n",
        "  # делим поэзию на кусочки по предложениям\n",
        "  df['content'] = df.apply(split_data, axis = 1, args=(mayak_len_lines, min_len_lines))\n",
        "\n",
        "  # приводим к виду в одной колонке одна строка\n",
        "  unstacked_df = df.explode('content').reset_index().drop('index', axis = 1).dropna()\n",
        "\n",
        "  # удаляем заголовок\n",
        "  unstacked_df.drop('title', axis=1, inplace = True)\n",
        "\n",
        "  return unstacked_df"
      ],
      "metadata": {
        "id": "N0L6ZvkOQ2Iy"
      },
      "execution_count": null,
      "outputs": []
    },
    {
      "cell_type": "markdown",
      "source": [
        "# main collection"
      ],
      "metadata": {
        "id": "jp56_KfiQjJU"
      }
    },
    {
      "cell_type": "code",
      "source": [
        "data = pd.read_json('/content/classic_poems.json')"
      ],
      "metadata": {
        "id": "vYmvVraJv0i6"
      },
      "execution_count": null,
      "outputs": []
    },
    {
      "cell_type": "code",
      "source": [
        "dataset = data"
      ],
      "metadata": {
        "id": "O8PsPYHYZk_Y"
      },
      "execution_count": null,
      "outputs": []
    },
    {
      "cell_type": "code",
      "source": [
        "dataset = make_clear_dataset(data)\n",
        "dataset.groupby('poet_id').count()"
      ],
      "metadata": {
        "colab": {
          "base_uri": "https://localhost:8080/",
          "height": 341
        },
        "id": "RF9pPKmhO0aF",
        "outputId": "af69215f-5e95-436a-b46b-b3ac61911f69"
      },
      "execution_count": null,
      "outputs": [
        {
          "output_type": "stream",
          "name": "stderr",
          "text": [
            "<ipython-input-354-c96988e48bdf>:9: SettingWithCopyWarning: \n",
            "A value is trying to be set on a copy of a slice from a DataFrame.\n",
            "Try using .loc[row_indexer,col_indexer] = value instead\n",
            "\n",
            "See the caveats in the documentation: https://pandas.pydata.org/pandas-docs/stable/user_guide/indexing.html#returning-a-view-versus-a-copy\n",
            "  df['content'] = df.apply(split_data, axis = 1, args=(mayak_len_lines, min_len_lines))\n"
          ]
        },
        {
          "output_type": "execute_result",
          "data": {
            "text/plain": [
              "             content\n",
              "poet_id             \n",
              "blok            1963\n",
              "esenin          1478\n",
              "mayakovskij     1107\n",
              "pushkin         2207\n",
              "tyutchev        1000"
            ],
            "text/html": [
              "\n",
              "  <div id=\"df-244b5fbc-302b-4063-8841-104f19cd0eb0\">\n",
              "    <div class=\"colab-df-container\">\n",
              "      <div>\n",
              "<style scoped>\n",
              "    .dataframe tbody tr th:only-of-type {\n",
              "        vertical-align: middle;\n",
              "    }\n",
              "\n",
              "    .dataframe tbody tr th {\n",
              "        vertical-align: top;\n",
              "    }\n",
              "\n",
              "    .dataframe thead th {\n",
              "        text-align: right;\n",
              "    }\n",
              "</style>\n",
              "<table border=\"1\" class=\"dataframe\">\n",
              "  <thead>\n",
              "    <tr style=\"text-align: right;\">\n",
              "      <th></th>\n",
              "      <th>content</th>\n",
              "    </tr>\n",
              "    <tr>\n",
              "      <th>poet_id</th>\n",
              "      <th></th>\n",
              "    </tr>\n",
              "  </thead>\n",
              "  <tbody>\n",
              "    <tr>\n",
              "      <th>blok</th>\n",
              "      <td>1963</td>\n",
              "    </tr>\n",
              "    <tr>\n",
              "      <th>esenin</th>\n",
              "      <td>1478</td>\n",
              "    </tr>\n",
              "    <tr>\n",
              "      <th>mayakovskij</th>\n",
              "      <td>1107</td>\n",
              "    </tr>\n",
              "    <tr>\n",
              "      <th>pushkin</th>\n",
              "      <td>2207</td>\n",
              "    </tr>\n",
              "    <tr>\n",
              "      <th>tyutchev</th>\n",
              "      <td>1000</td>\n",
              "    </tr>\n",
              "  </tbody>\n",
              "</table>\n",
              "</div>\n",
              "      <button class=\"colab-df-convert\" onclick=\"convertToInteractive('df-244b5fbc-302b-4063-8841-104f19cd0eb0')\"\n",
              "              title=\"Convert this dataframe to an interactive table.\"\n",
              "              style=\"display:none;\">\n",
              "        \n",
              "  <svg xmlns=\"http://www.w3.org/2000/svg\" height=\"24px\"viewBox=\"0 0 24 24\"\n",
              "       width=\"24px\">\n",
              "    <path d=\"M0 0h24v24H0V0z\" fill=\"none\"/>\n",
              "    <path d=\"M18.56 5.44l.94 2.06.94-2.06 2.06-.94-2.06-.94-.94-2.06-.94 2.06-2.06.94zm-11 1L8.5 8.5l.94-2.06 2.06-.94-2.06-.94L8.5 2.5l-.94 2.06-2.06.94zm10 10l.94 2.06.94-2.06 2.06-.94-2.06-.94-.94-2.06-.94 2.06-2.06.94z\"/><path d=\"M17.41 7.96l-1.37-1.37c-.4-.4-.92-.59-1.43-.59-.52 0-1.04.2-1.43.59L10.3 9.45l-7.72 7.72c-.78.78-.78 2.05 0 2.83L4 21.41c.39.39.9.59 1.41.59.51 0 1.02-.2 1.41-.59l7.78-7.78 2.81-2.81c.8-.78.8-2.07 0-2.86zM5.41 20L4 18.59l7.72-7.72 1.47 1.35L5.41 20z\"/>\n",
              "  </svg>\n",
              "      </button>\n",
              "      \n",
              "  <style>\n",
              "    .colab-df-container {\n",
              "      display:flex;\n",
              "      flex-wrap:wrap;\n",
              "      gap: 12px;\n",
              "    }\n",
              "\n",
              "    .colab-df-convert {\n",
              "      background-color: #E8F0FE;\n",
              "      border: none;\n",
              "      border-radius: 50%;\n",
              "      cursor: pointer;\n",
              "      display: none;\n",
              "      fill: #1967D2;\n",
              "      height: 32px;\n",
              "      padding: 0 0 0 0;\n",
              "      width: 32px;\n",
              "    }\n",
              "\n",
              "    .colab-df-convert:hover {\n",
              "      background-color: #E2EBFA;\n",
              "      box-shadow: 0px 1px 2px rgba(60, 64, 67, 0.3), 0px 1px 3px 1px rgba(60, 64, 67, 0.15);\n",
              "      fill: #174EA6;\n",
              "    }\n",
              "\n",
              "    [theme=dark] .colab-df-convert {\n",
              "      background-color: #3B4455;\n",
              "      fill: #D2E3FC;\n",
              "    }\n",
              "\n",
              "    [theme=dark] .colab-df-convert:hover {\n",
              "      background-color: #434B5C;\n",
              "      box-shadow: 0px 1px 3px 1px rgba(0, 0, 0, 0.15);\n",
              "      filter: drop-shadow(0px 1px 2px rgba(0, 0, 0, 0.3));\n",
              "      fill: #FFFFFF;\n",
              "    }\n",
              "  </style>\n",
              "\n",
              "      <script>\n",
              "        const buttonEl =\n",
              "          document.querySelector('#df-244b5fbc-302b-4063-8841-104f19cd0eb0 button.colab-df-convert');\n",
              "        buttonEl.style.display =\n",
              "          google.colab.kernel.accessAllowed ? 'block' : 'none';\n",
              "\n",
              "        async function convertToInteractive(key) {\n",
              "          const element = document.querySelector('#df-244b5fbc-302b-4063-8841-104f19cd0eb0');\n",
              "          const dataTable =\n",
              "            await google.colab.kernel.invokeFunction('convertToInteractive',\n",
              "                                                     [key], {});\n",
              "          if (!dataTable) return;\n",
              "\n",
              "          const docLinkHtml = 'Like what you see? Visit the ' +\n",
              "            '<a target=\"_blank\" href=https://colab.research.google.com/notebooks/data_table.ipynb>data table notebook</a>'\n",
              "            + ' to learn more about interactive tables.';\n",
              "          element.innerHTML = '';\n",
              "          dataTable['output_type'] = 'display_data';\n",
              "          await google.colab.output.renderOutput(dataTable, element);\n",
              "          const docLink = document.createElement('div');\n",
              "          docLink.innerHTML = docLinkHtml;\n",
              "          element.appendChild(docLink);\n",
              "        }\n",
              "      </script>\n",
              "    </div>\n",
              "  </div>\n",
              "  "
            ]
          },
          "metadata": {},
          "execution_count": 401
        }
      ]
    },
    {
      "cell_type": "code",
      "source": [
        "dataset.to_csv('poetry.csv')"
      ],
      "metadata": {
        "id": "ZPOr49aEO1v-"
      },
      "execution_count": null,
      "outputs": []
    }
  ]
}