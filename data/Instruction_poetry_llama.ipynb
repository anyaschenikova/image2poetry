{
  "nbformat": 4,
  "nbformat_minor": 0,
  "metadata": {
    "colab": {
      "provenance": []
    },
    "kernelspec": {
      "name": "python3",
      "display_name": "Python 3"
    },
    "language_info": {
      "name": "python"
    }
  },
  "cells": [
    {
      "cell_type": "markdown",
      "source": [
        "[![Open In Colab](https://colab.research.google.com/assets/colab-badge.svg)](https://colab.research.google.com/drive/1eGgi8kYolhlCN1aPXAYxk4_HJ7C-Kw4t#scrollTo=wJJnj6OVfnEE)\n"
      ],
      "metadata": {
        "id": "hW9S88SfgC3m"
      }
    },
    {
      "cell_type": "code",
      "source": [
        "import pandas as pd\n",
        "import random\n",
        "!wget https://www.dropbox.com/s/neb74j04nfxay14/poetry_keywords.csv?dl=0 -O poetry_keywords.csv"
      ],
      "metadata": {
        "id": "RdXZRm9E2w13"
      },
      "execution_count": null,
      "outputs": []
    },
    {
      "cell_type": "code",
      "source": [
        "data = pd.read_csv('/content/poetry_keywords.csv', index_col=0)\n",
        "data"
      ],
      "metadata": {
        "colab": {
          "base_uri": "https://localhost:8080/",
          "height": 423
        },
        "id": "VZU-ler52zx8",
        "outputId": "a29b75fa-3d50-4dac-e277-4ce6a71dade4"
      },
      "execution_count": null,
      "outputs": [
        {
          "output_type": "execute_result",
          "data": {
            "text/plain": [
              "                                                   text        autor  \\\n",
              "0     Влас Прогулкин —\\nмилый мальчик,\\nспать ложилс...  mayakovskij   \n",
              "1     Засыпает на рассвете,\\nскомкав\\nёрзаньем\\nкров...  mayakovskij   \n",
              "2     Разошлись\\nдругие\\nв школы,–\\nВлас\\nу крана\\nп...  mayakovskij   \n",
              "3     Пошагал\\nи встал разиней:\\nвывеска на магазине...  mayakovskij   \n",
              "4     С конца прочёл\\nзнаток наук, —\\nНомисвыходит\\n...  mayakovskij   \n",
              "...                                                 ...          ...   \n",
              "7750  Чудный сон мне бог послал—\\nС длинной белой бо...      pushkin   \n",
              "7751  Бедный пахарь утомленный,\\nОтрешишь волов от п...      pushkin   \n",
              "7752  И страшуся и надеюсь,\\nКазни вечныя страшуся,\\...      pushkin   \n",
              "7753  О нет, мне жизнь не надоела,\\nЯ жить люблю, я ...      pushkin   \n",
              "7754  Еще хранятся наслажденья\\nДля любопытства моег...      pushkin   \n",
              "\n",
              "                                               keywords  \n",
              "0     ['спать', 'журнальчик', 'заставить', 'мальчик'...  \n",
              "1     ['вставать', 'детвора', 'отец', 'засыпать', 'у...  \n",
              "2     ['мочить', 'дрематься', 'выходить', 'школа', '...  \n",
              "3     ['магазин', 'вывеска', 'прочесть', 'пошагать',...  \n",
              "4     ['номисвыходить', 'наука', 'пять', 'прочесть',...  \n",
              "...                                                 ...  \n",
              "7750  ['сон', 'старец', 'ангел', 'плаватель', 'готов...  \n",
              "7751  ['утомлённый', 'сон', 'ждать', 'исповедовать',...  \n",
              "7752  ['успокоить', 'надеяться', 'казнь', 'творец', ...  \n",
              "7753  ['надоесть', 'охладеть', 'жизнь', 'хотеть', 'м...  \n",
              "7754  ['наслаждение', 'воображение', 'сон', 'ещё', '...  \n",
              "\n",
              "[7755 rows x 3 columns]"
            ],
            "text/html": [
              "\n",
              "  <div id=\"df-1ad4c34b-a91f-4646-963e-c9987d42bf42\">\n",
              "    <div class=\"colab-df-container\">\n",
              "      <div>\n",
              "<style scoped>\n",
              "    .dataframe tbody tr th:only-of-type {\n",
              "        vertical-align: middle;\n",
              "    }\n",
              "\n",
              "    .dataframe tbody tr th {\n",
              "        vertical-align: top;\n",
              "    }\n",
              "\n",
              "    .dataframe thead th {\n",
              "        text-align: right;\n",
              "    }\n",
              "</style>\n",
              "<table border=\"1\" class=\"dataframe\">\n",
              "  <thead>\n",
              "    <tr style=\"text-align: right;\">\n",
              "      <th></th>\n",
              "      <th>text</th>\n",
              "      <th>autor</th>\n",
              "      <th>keywords</th>\n",
              "    </tr>\n",
              "  </thead>\n",
              "  <tbody>\n",
              "    <tr>\n",
              "      <th>0</th>\n",
              "      <td>Влас Прогулкин —\\nмилый мальчик,\\nспать ложилс...</td>\n",
              "      <td>mayakovskij</td>\n",
              "      <td>['спать', 'журнальчик', 'заставить', 'мальчик'...</td>\n",
              "    </tr>\n",
              "    <tr>\n",
              "      <th>1</th>\n",
              "      <td>Засыпает на рассвете,\\nскомкав\\nёрзаньем\\nкров...</td>\n",
              "      <td>mayakovskij</td>\n",
              "      <td>['вставать', 'детвора', 'отец', 'засыпать', 'у...</td>\n",
              "    </tr>\n",
              "    <tr>\n",
              "      <th>2</th>\n",
              "      <td>Разошлись\\nдругие\\nв школы,–\\nВлас\\nу крана\\nп...</td>\n",
              "      <td>mayakovskij</td>\n",
              "      <td>['мочить', 'дрематься', 'выходить', 'школа', '...</td>\n",
              "    </tr>\n",
              "    <tr>\n",
              "      <th>3</th>\n",
              "      <td>Пошагал\\nи встал разиней:\\nвывеска на магазине...</td>\n",
              "      <td>mayakovskij</td>\n",
              "      <td>['магазин', 'вывеска', 'прочесть', 'пошагать',...</td>\n",
              "    </tr>\n",
              "    <tr>\n",
              "      <th>4</th>\n",
              "      <td>С конца прочёл\\nзнаток наук, —\\nНомисвыходит\\n...</td>\n",
              "      <td>mayakovskij</td>\n",
              "      <td>['номисвыходить', 'наука', 'пять', 'прочесть',...</td>\n",
              "    </tr>\n",
              "    <tr>\n",
              "      <th>...</th>\n",
              "      <td>...</td>\n",
              "      <td>...</td>\n",
              "      <td>...</td>\n",
              "    </tr>\n",
              "    <tr>\n",
              "      <th>7750</th>\n",
              "      <td>Чудный сон мне бог послал—\\nС длинной белой бо...</td>\n",
              "      <td>pushkin</td>\n",
              "      <td>['сон', 'старец', 'ангел', 'плаватель', 'готов...</td>\n",
              "    </tr>\n",
              "    <tr>\n",
              "      <th>7751</th>\n",
              "      <td>Бедный пахарь утомленный,\\nОтрешишь волов от п...</td>\n",
              "      <td>pushkin</td>\n",
              "      <td>['утомлённый', 'сон', 'ждать', 'исповедовать',...</td>\n",
              "    </tr>\n",
              "    <tr>\n",
              "      <th>7752</th>\n",
              "      <td>И страшуся и надеюсь,\\nКазни вечныя страшуся,\\...</td>\n",
              "      <td>pushkin</td>\n",
              "      <td>['успокоить', 'надеяться', 'казнь', 'творец', ...</td>\n",
              "    </tr>\n",
              "    <tr>\n",
              "      <th>7753</th>\n",
              "      <td>О нет, мне жизнь не надоела,\\nЯ жить люблю, я ...</td>\n",
              "      <td>pushkin</td>\n",
              "      <td>['надоесть', 'охладеть', 'жизнь', 'хотеть', 'м...</td>\n",
              "    </tr>\n",
              "    <tr>\n",
              "      <th>7754</th>\n",
              "      <td>Еще хранятся наслажденья\\nДля любопытства моег...</td>\n",
              "      <td>pushkin</td>\n",
              "      <td>['наслаждение', 'воображение', 'сон', 'ещё', '...</td>\n",
              "    </tr>\n",
              "  </tbody>\n",
              "</table>\n",
              "<p>7755 rows × 3 columns</p>\n",
              "</div>\n",
              "      <button class=\"colab-df-convert\" onclick=\"convertToInteractive('df-1ad4c34b-a91f-4646-963e-c9987d42bf42')\"\n",
              "              title=\"Convert this dataframe to an interactive table.\"\n",
              "              style=\"display:none;\">\n",
              "        \n",
              "  <svg xmlns=\"http://www.w3.org/2000/svg\" height=\"24px\"viewBox=\"0 0 24 24\"\n",
              "       width=\"24px\">\n",
              "    <path d=\"M0 0h24v24H0V0z\" fill=\"none\"/>\n",
              "    <path d=\"M18.56 5.44l.94 2.06.94-2.06 2.06-.94-2.06-.94-.94-2.06-.94 2.06-2.06.94zm-11 1L8.5 8.5l.94-2.06 2.06-.94-2.06-.94L8.5 2.5l-.94 2.06-2.06.94zm10 10l.94 2.06.94-2.06 2.06-.94-2.06-.94-.94-2.06-.94 2.06-2.06.94z\"/><path d=\"M17.41 7.96l-1.37-1.37c-.4-.4-.92-.59-1.43-.59-.52 0-1.04.2-1.43.59L10.3 9.45l-7.72 7.72c-.78.78-.78 2.05 0 2.83L4 21.41c.39.39.9.59 1.41.59.51 0 1.02-.2 1.41-.59l7.78-7.78 2.81-2.81c.8-.78.8-2.07 0-2.86zM5.41 20L4 18.59l7.72-7.72 1.47 1.35L5.41 20z\"/>\n",
              "  </svg>\n",
              "      </button>\n",
              "      \n",
              "  <style>\n",
              "    .colab-df-container {\n",
              "      display:flex;\n",
              "      flex-wrap:wrap;\n",
              "      gap: 12px;\n",
              "    }\n",
              "\n",
              "    .colab-df-convert {\n",
              "      background-color: #E8F0FE;\n",
              "      border: none;\n",
              "      border-radius: 50%;\n",
              "      cursor: pointer;\n",
              "      display: none;\n",
              "      fill: #1967D2;\n",
              "      height: 32px;\n",
              "      padding: 0 0 0 0;\n",
              "      width: 32px;\n",
              "    }\n",
              "\n",
              "    .colab-df-convert:hover {\n",
              "      background-color: #E2EBFA;\n",
              "      box-shadow: 0px 1px 2px rgba(60, 64, 67, 0.3), 0px 1px 3px 1px rgba(60, 64, 67, 0.15);\n",
              "      fill: #174EA6;\n",
              "    }\n",
              "\n",
              "    [theme=dark] .colab-df-convert {\n",
              "      background-color: #3B4455;\n",
              "      fill: #D2E3FC;\n",
              "    }\n",
              "\n",
              "    [theme=dark] .colab-df-convert:hover {\n",
              "      background-color: #434B5C;\n",
              "      box-shadow: 0px 1px 3px 1px rgba(0, 0, 0, 0.15);\n",
              "      filter: drop-shadow(0px 1px 2px rgba(0, 0, 0, 0.3));\n",
              "      fill: #FFFFFF;\n",
              "    }\n",
              "  </style>\n",
              "\n",
              "      <script>\n",
              "        const buttonEl =\n",
              "          document.querySelector('#df-1ad4c34b-a91f-4646-963e-c9987d42bf42 button.colab-df-convert');\n",
              "        buttonEl.style.display =\n",
              "          google.colab.kernel.accessAllowed ? 'block' : 'none';\n",
              "\n",
              "        async function convertToInteractive(key) {\n",
              "          const element = document.querySelector('#df-1ad4c34b-a91f-4646-963e-c9987d42bf42');\n",
              "          const dataTable =\n",
              "            await google.colab.kernel.invokeFunction('convertToInteractive',\n",
              "                                                     [key], {});\n",
              "          if (!dataTable) return;\n",
              "\n",
              "          const docLinkHtml = 'Like what you see? Visit the ' +\n",
              "            '<a target=\"_blank\" href=https://colab.research.google.com/notebooks/data_table.ipynb>data table notebook</a>'\n",
              "            + ' to learn more about interactive tables.';\n",
              "          element.innerHTML = '';\n",
              "          dataTable['output_type'] = 'display_data';\n",
              "          await google.colab.output.renderOutput(dataTable, element);\n",
              "          const docLink = document.createElement('div');\n",
              "          docLink.innerHTML = docLinkHtml;\n",
              "          element.appendChild(docLink);\n",
              "        }\n",
              "      </script>\n",
              "    </div>\n",
              "  </div>\n",
              "  "
            ]
          },
          "metadata": {},
          "execution_count": 3
        }
      ]
    },
    {
      "cell_type": "code",
      "source": [
        "variations = [\n",
        "    \"Создай стихотворение в стиле {author}, используя эти ключевые слова\",\n",
        "    \"Составь стих в манере {author} с применением следующих ключевых слов\",\n",
        "    \"Напиши поэму в стиле {author}, опираясь на следующие ключевые слова\",\n",
        "    \"Сочини стихотворение в духе {author} с использованием указанных ключевых слов\",\n",
        "    \"Создай стихотворение, напоминающее творчество {author}, с использованием следующих ключевых слов\",\n",
        "    \"Напиши стих, вдохновившись стилем {author}, и используй следующие ключевые слова\",\n",
        "    \"Составь стихотворение, воссоздав стиль {author}, и включи указанные ключевые слова\",\n",
        "    \"Придумай стихотворение в манере {author} и примени следующие ключевые слова\",\n",
        "    \"Сочини стихотворение, напоминающее произведения {author}, с использованием этих ключевых слов\",\n",
        "    \"Напиши стих в стиле {author}, включая следующие ключевые слова\",\n",
        "    \"Составь стихотворение в духе {author} и используй указанные ключевые слова\",\n",
        "    \"Напиши стих, ориентируясь на стиль {author}, и включи эти ключевые слова\",\n",
        "    \"Придумай стихотворение, воссоздав творчество {author}, и примени указанные ключевые слова\",\n",
        "    \"Создай стих, напоминающий произведения {author}, и используй следующие ключевые слова\",\n",
        "    \"Составь стихотворение в стиле {author}, опираясь на указанные ключевые слова\",\n",
        "    \"Придумай стихотворение в манере {author} с использованием этих ключевых слов\",\n",
        "    \"Напиши стих, вдохновившись творчеством {author}, и включи следующие ключевые слова\",\n",
        "    \"Сочини стихотворение в стиле {author} и примени указанные ключевые слова\",\n",
        "    \"Создай стихотворение, ориентируясь на стиль {author}, и используй эти ключевые слова\",\n",
        "    \"Составь стих в духе {author}, опираясь на следующие ключевые слова\",\n",
        "]"
      ],
      "metadata": {
        "id": "5gKBXWMo6LXL"
      },
      "execution_count": null,
      "outputs": []
    },
    {
      "cell_type": "code",
      "source": [
        "author2text = {\n",
        "    'esenin': 'Eceнина',\n",
        "    'pushkin': 'Пушкина',\n",
        "    'blok' : 'Блока',\n",
        "    'tyutchev': 'Тютчева',\n",
        "    'mayakovskij': 'Маяковского'\n",
        "}"
      ],
      "metadata": {
        "id": "XpSz_2Zg7X0P"
      },
      "execution_count": null,
      "outputs": []
    },
    {
      "cell_type": "code",
      "source": [
        "def set_instructions(author):\n",
        "  template = random.choice(variations)\n",
        "  author = author2text[author]\n",
        "  return template.format(author = author)"
      ],
      "metadata": {
        "id": "YK1zcbb27s1z"
      },
      "execution_count": null,
      "outputs": []
    },
    {
      "cell_type": "code",
      "source": [
        "data['instruction'] = data['autor'].apply(set_instructions)\n",
        "data['input'] = data['keywords'].apply(lambda x: ', '.join(x.split(\"'\")[1:-1:2]))\n",
        "data['output'] = data['text']"
      ],
      "metadata": {
        "id": "xZyrds2l37mg"
      },
      "execution_count": null,
      "outputs": []
    },
    {
      "cell_type": "code",
      "source": [
        "# Convert the DataFrame to a JSON Lines file\n",
        "with open(\"poetry_for_llama.jsonl\", \"w\") as file:\n",
        "    file.write(data[['input','output','instruction']].to_json(orient=\"records\", lines=True))"
      ],
      "metadata": {
        "id": "qk18p3j5-NHY"
      },
      "execution_count": null,
      "outputs": []
    }
  ]
}