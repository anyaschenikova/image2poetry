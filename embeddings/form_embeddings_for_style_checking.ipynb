{
  "cells": [
    {
      "cell_type": "markdown",
      "source": [
        "[![Open In Colab](https://colab.research.google.com/assets/colab-badge.svg)](https://colab.research.google.com/drive/1u2_zKqrYyxVpwNTflTxl36UXbgPtvoN9?usp=sharing)\n",
        "\n"
      ],
      "metadata": {
        "id": "8RJ7EpMig4Ac"
      }
    },
    {
      "cell_type": "markdown",
      "metadata": {
        "id": "ivfxB0Hjctc9"
      },
      "source": [
        "# Imports"
      ]
    },
    {
      "cell_type": "code",
      "execution_count": null,
      "metadata": {
        "id": "OryAafLBUaY5"
      },
      "outputs": [],
      "source": [
        "!pip install transformers"
      ]
    },
    {
      "cell_type": "code",
      "source": [
        "!pip install scipy"
      ],
      "metadata": {
        "colab": {
          "base_uri": "https://localhost:8080/"
        },
        "id": "xeBoJG3GJdwl",
        "outputId": "8812c892-0ef4-48c4-bde4-5a859e096f31"
      },
      "execution_count": null,
      "outputs": [
        {
          "output_type": "stream",
          "name": "stdout",
          "text": [
            "Collecting scipy\n",
            "  Downloading scipy-1.10.1-cp39-cp39-manylinux_2_17_x86_64.manylinux2014_x86_64.whl (34.5 MB)\n",
            "\u001b[2K     \u001b[90m━━━━━━━━━━━━━━━━━━━━━━━━━━━━━━━━━━━━━━━━\u001b[0m \u001b[32m34.5/34.5 MB\u001b[0m \u001b[31m9.1 MB/s\u001b[0m eta \u001b[36m0:00:00\u001b[0m\n",
            "\u001b[?25hRequirement already satisfied: numpy<1.27.0,>=1.19.5 in /home/revolt/anaconda3/envs/poetry_gpt3_large/lib/python3.9/site-packages (from scipy) (1.24.3)\n",
            "Installing collected packages: scipy\n",
            "Successfully installed scipy-1.10.1\n"
          ]
        }
      ]
    },
    {
      "cell_type": "code",
      "execution_count": null,
      "metadata": {
        "id": "6M3eZx2Qca8p"
      },
      "outputs": [],
      "source": [
        "!wget https://www.dropbox.com/s/neb74j04nfxay14/poetry_keywords.csv?dl=0 -O real_poetry_keywords.csv"
      ]
    },
    {
      "cell_type": "code",
      "execution_count": null,
      "metadata": {
        "id": "68Dn3jQFcsba"
      },
      "outputs": [],
      "source": [
        "dir_path = ''"
      ]
    },
    {
      "cell_type": "code",
      "execution_count": null,
      "metadata": {
        "id": "tHGd3b-wdLoK"
      },
      "outputs": [],
      "source": [
        "import string\n",
        "import re\n",
        "import pickle"
      ]
    },
    {
      "cell_type": "code",
      "execution_count": null,
      "metadata": {
        "id": "wRzcd5JmdXmT",
        "colab": {
          "base_uri": "https://localhost:8080/"
        },
        "outputId": "6bfdc94c-2b9e-469f-87a2-63290803c5a7"
      },
      "outputs": [
        {
          "output_type": "stream",
          "name": "stderr",
          "text": [
            "/home/revolt/anaconda3/envs/poetry_gpt3_large/lib/python3.9/site-packages/tqdm/auto.py:21: TqdmWarning: IProgress not found. Please update jupyter and ipywidgets. See https://ipywidgets.readthedocs.io/en/stable/user_install.html\n",
            "  from .autonotebook import tqdm as notebook_tqdm\n"
          ]
        }
      ],
      "source": [
        "import torch\n",
        "from transformers import AutoTokenizer, AutoModel\n",
        "from scipy.spatial.distance import cosine\n",
        "\n",
        "import numpy as np\n",
        "from time import sleep\n",
        "from IPython.display import clear_output"
      ]
    },
    {
      "cell_type": "code",
      "source": [
        "from tqdm import tqdm"
      ],
      "metadata": {
        "id": "nemD36bGITRn"
      },
      "execution_count": null,
      "outputs": []
    },
    {
      "cell_type": "markdown",
      "metadata": {
        "id": "W13j8OjxT_90"
      },
      "source": [
        "# get generated and real data"
      ]
    },
    {
      "cell_type": "markdown",
      "metadata": {
        "id": "Yx33gGYZC9PD"
      },
      "source": [
        "скачиваем"
      ]
    },
    {
      "cell_type": "markdown",
      "metadata": {
        "id": "9JpkqQvlWlul"
      },
      "source": [
        "## real\n"
      ]
    },
    {
      "cell_type": "code",
      "execution_count": null,
      "metadata": {
        "id": "gez5uH3ZWqjH"
      },
      "outputs": [],
      "source": [
        "import pandas as pd"
      ]
    },
    {
      "cell_type": "code",
      "execution_count": null,
      "metadata": {
        "id": "sokQBH0AWlXM"
      },
      "outputs": [],
      "source": [
        "real_poetry_df = pd.read_csv('../data/poetry_keywords.csv')"
      ]
    },
    {
      "cell_type": "code",
      "execution_count": null,
      "metadata": {
        "colab": {
          "base_uri": "https://localhost:8080/"
        },
        "id": "Z2Cm1id5Wza1",
        "outputId": "a60f2c5b-e26c-4626-ad98-0124c5efb6bd"
      },
      "outputs": [
        {
          "output_type": "execute_result",
          "data": {
            "text/plain": [
              "(7755, 3)"
            ]
          },
          "metadata": {},
          "execution_count": 8
        }
      ],
      "source": [
        "real_poetry_df.shape"
      ]
    },
    {
      "cell_type": "markdown",
      "metadata": {
        "id": "xWwDmzI1W3rf"
      },
      "source": [
        "## generated"
      ]
    },
    {
      "cell_type": "code",
      "source": [
        "def load_poetry(path):\n",
        "  with open(path, 'rb') as f:\n",
        "    generated_poetry = pickle.load(f)\n",
        "  return generated_poetry"
      ],
      "metadata": {
        "id": "XLCBjfb5bBYW"
      },
      "execution_count": null,
      "outputs": []
    },
    {
      "cell_type": "markdown",
      "metadata": {
        "id": "ibgAs7o0W8uk"
      },
      "source": [
        "### Large one-to-many\n"
      ]
    },
    {
      "cell_type": "code",
      "execution_count": null,
      "metadata": {
        "id": "5JZi-u7yxTY1"
      },
      "outputs": [],
      "source": [
        "with open('../generated/key2poetry/large_all_poets.pkl', 'rb') as f:\n",
        "    generated_poetry_large = pickle.load(f)"
      ]
    },
    {
      "cell_type": "markdown",
      "metadata": {
        "id": "79zA6dghXBY3"
      },
      "source": [
        "### Medium one-to-many"
      ]
    },
    {
      "cell_type": "code",
      "execution_count": null,
      "metadata": {
        "id": "oZ7By_Nee_xj"
      },
      "outputs": [],
      "source": [
        "with open('../generated/key2poetry/medium_all_poets.pkl', 'rb') as f:\n",
        "    generated_poetry_medium = pickle.load(f)"
      ]
    },
    {
      "cell_type": "markdown",
      "source": [
        "### One-to-one"
      ],
      "metadata": {
        "id": "c6eNABI1JqTM"
      }
    },
    {
      "cell_type": "code",
      "source": [
        "import os"
      ],
      "metadata": {
        "id": "Q9NIYYpCKD82"
      },
      "execution_count": null,
      "outputs": []
    },
    {
      "cell_type": "code",
      "source": [
        "poetry_all = {}\n",
        "for poet in ['esenin', 'pushkin', 'mayak', 'blok', 'tyutchev']:\n",
        "  poetry = load_poetry(f'../generated/image2poetry/vit_rugpt2_{poet}.pkl')\n",
        "  for author in poetry:\n",
        "    poetry_all[author] = poetry[author]"
      ],
      "metadata": {
        "id": "Ye5u_aCoJpcF"
      },
      "execution_count": null,
      "outputs": []
    },
    {
      "cell_type": "code",
      "source": [
        "poetry_all.keys()"
      ],
      "metadata": {
        "colab": {
          "base_uri": "https://localhost:8080/"
        },
        "id": "1OWJQ-YMLRkg",
        "outputId": "bade94a0-0d36-4707-aa58-44c0c2c098a1"
      },
      "execution_count": null,
      "outputs": [
        {
          "output_type": "execute_result",
          "data": {
            "text/plain": [
              "dict_keys(['Пушкин', 'Тютчев', 'Есенин', 'Маяковский', 'Блок'])"
            ]
          },
          "metadata": {},
          "execution_count": 26
        }
      ]
    },
    {
      "cell_type": "markdown",
      "source": [
        "### Image one-to many"
      ],
      "metadata": {
        "id": "H5pTpp2XbEju"
      }
    },
    {
      "cell_type": "code",
      "source": [
        "generated_fp32 =  load_poetry(f'../generated/image2poetry/vit_rugpt2_f32.pkl')\n",
        "generated_fp16 =  load_poetry(f'../generated/image2poetry/vit_rugpt2_fp16.pkl')"
      ],
      "metadata": {
        "id": "2HTsw-88Nn_N"
      },
      "execution_count": null,
      "outputs": []
    },
    {
      "cell_type": "code",
      "source": [
        "generated_ft = load_poetry('../generated/image2poetry/vit_rugpt2_ft.pkl')"
      ],
      "metadata": {
        "id": "WXzVe3RkaMyf"
      },
      "execution_count": null,
      "outputs": []
    },
    {
      "cell_type": "code",
      "source": [
        "generated_ft.keys()"
      ],
      "metadata": {
        "colab": {
          "base_uri": "https://localhost:8080/"
        },
        "id": "nl6llz39OiDn",
        "outputId": "75f7b14c-6532-4365-c5a3-691eccc82cf2"
      },
      "execution_count": null,
      "outputs": [
        {
          "output_type": "execute_result",
          "data": {
            "text/plain": [
              "dict_keys(['Пушкин', 'Есенин', 'Тютчев', 'Блок', 'Маяковский'])"
            ]
          },
          "metadata": {},
          "execution_count": 12
        }
      ]
    },
    {
      "cell_type": "markdown",
      "metadata": {
        "id": "JBPbAJ2LtZF6"
      },
      "source": [
        "## from .pkl to dataframe"
      ]
    },
    {
      "cell_type": "code",
      "execution_count": null,
      "metadata": {
        "id": "Xo1sdVR6mdOW"
      },
      "outputs": [],
      "source": [
        "poets = real_poetry_df['author'].unique()"
      ]
    },
    {
      "cell_type": "code",
      "execution_count": null,
      "metadata": {
        "colab": {
          "base_uri": "https://localhost:8080/"
        },
        "id": "xGJrs2Nhnpyb",
        "outputId": "9251088b-7e81-40ca-df6a-d8e6a1c8a9e4"
      },
      "outputs": [
        {
          "output_type": "stream",
          "name": "stderr",
          "text": [
            "100%|████████████████████████████████████████████████████████████████████████████████████| 5/5 [00:00<00:00, 370.10it/s]\n",
            "100%|████████████████████████████████████████████████████████████████████████████████████| 5/5 [00:00<00:00, 346.12it/s]\n"
          ]
        }
      ],
      "source": [
        "def from_pkl_to_df(data_pkl: pd.DataFrame):  \n",
        "  generated_df = pd.DataFrame()\n",
        "\n",
        "  for poet in tqdm(poets):\n",
        "    new_df = pd.DataFrame()\n",
        "    poetry = []\n",
        "    keywords = []\n",
        "    \n",
        "    for line in data_pkl[poet]:\n",
        "      poetry.append(line.split('Поэзия:')[-1])\n",
        "      keywords.append(line.split('Поэзия:')[0].split('Ключевые слова:')[-1].replace('\\n',''))\n",
        "\n",
        "    new_df['author'] = [poet] * len(data_pkl[poet])\n",
        "    new_df['text'] = poetry\n",
        "    new_df['keywords'] = keywords\n",
        "    generated_df = pd.concat([generated_df, new_df])\n",
        "  return generated_df\n",
        "\n",
        "generated_medium_df = from_pkl_to_df(generated_poetry_medium)\n",
        "generated_large_df = from_pkl_to_df(generated_poetry_large)"
      ]
    },
    {
      "cell_type": "code",
      "source": [
        "def from_pkl_to_df_wo_key(data_pkl: pd.DataFrame):  \n",
        "  generated_df = pd.DataFrame()\n",
        "\n",
        "  for poet in tqdm(poets):\n",
        "    new_df = pd.DataFrame()\n",
        "    new_df['author'] = [poet] * len(data_pkl[poet])\n",
        "    new_df['text'] = data_pkl[poet]\n",
        "\n",
        "    generated_df = pd.concat([generated_df, new_df])\n",
        "  return generated_df\n",
        "\n",
        "generated_O2O = from_pkl_to_df_wo_key(poetry_all)"
      ],
      "metadata": {
        "colab": {
          "base_uri": "https://localhost:8080/"
        },
        "id": "vd0l8E9MMAaV",
        "outputId": "92da9149-ffd1-4bf9-ffab-973c54c4ff0b"
      },
      "execution_count": null,
      "outputs": [
        {
          "output_type": "stream",
          "name": "stderr",
          "text": [
            "100%|███████████████████████████████████████████████████████████████████████████████████████| 5/5 [00:00<00:00, 395.88it/s]\n"
          ]
        }
      ]
    },
    {
      "cell_type": "code",
      "source": [
        "generated_O2O"
      ],
      "metadata": {
        "colab": {
          "base_uri": "https://localhost:8080/",
          "height": 424
        },
        "id": "dLFMdn2BIbSa",
        "outputId": "8ad50630-9696-46a6-b124-361d57f8b548"
      },
      "execution_count": null,
      "outputs": [
        {
          "output_type": "execute_result",
          "data": {
            "text/plain": [
              "          author                                               text\n",
              "0     Маяковский  !\\nВовсю балаганит,\\nсмеется,\\nулыбаясь.\\nЭто ...\n",
              "1     Маяковский   и снова\\n       взлетает на дыбы.\\nИ снова\\n ...\n",
              "2     Маяковский  ,\\nа обратно —\\nручкой,\\nкуда надо.\\nИ так — г...\n",
              "3     Маяковский  -Ты что, не рада?\\nТы что, не рада?\\nКак же эт...\n",
              "4     Маяковский  :-)\\nА вообще, мне нравится «Араби».\\nВкусная,...\n",
              "...          ...                                                ...\n",
              "2202      Пушкин   (Мф.24:24–28)\\nПошли мне жребий ваш,\\nЗаране ...\n",
              "2203      Пушкин  , О вы, которых трепетали\\nЕвропы сильны племе...\n",
              "2204      Пушкин  :\\nИ тем небо умножает,\\nИ мне блаженство внуш...\n",
              "2205      Пушкин  , О нет, мне жизнь не надоела,\\nЯ жить люблю, ...\n",
              "2206      Пушкин   и сердце бьется в упоенье\\nПри милом виде теб...\n",
              "\n",
              "[7755 rows x 2 columns]"
            ],
            "text/html": [
              "<div>\n",
              "<style scoped>\n",
              "    .dataframe tbody tr th:only-of-type {\n",
              "        vertical-align: middle;\n",
              "    }\n",
              "\n",
              "    .dataframe tbody tr th {\n",
              "        vertical-align: top;\n",
              "    }\n",
              "\n",
              "    .dataframe thead th {\n",
              "        text-align: right;\n",
              "    }\n",
              "</style>\n",
              "<table border=\"1\" class=\"dataframe\">\n",
              "  <thead>\n",
              "    <tr style=\"text-align: right;\">\n",
              "      <th></th>\n",
              "      <th>author</th>\n",
              "      <th>text</th>\n",
              "    </tr>\n",
              "  </thead>\n",
              "  <tbody>\n",
              "    <tr>\n",
              "      <th>0</th>\n",
              "      <td>Маяковский</td>\n",
              "      <td>!\\nВовсю балаганит,\\nсмеется,\\nулыбаясь.\\nЭто ...</td>\n",
              "    </tr>\n",
              "    <tr>\n",
              "      <th>1</th>\n",
              "      <td>Маяковский</td>\n",
              "      <td>и снова\\n       взлетает на дыбы.\\nИ снова\\n ...</td>\n",
              "    </tr>\n",
              "    <tr>\n",
              "      <th>2</th>\n",
              "      <td>Маяковский</td>\n",
              "      <td>,\\nа обратно —\\nручкой,\\nкуда надо.\\nИ так — г...</td>\n",
              "    </tr>\n",
              "    <tr>\n",
              "      <th>3</th>\n",
              "      <td>Маяковский</td>\n",
              "      <td>-Ты что, не рада?\\nТы что, не рада?\\nКак же эт...</td>\n",
              "    </tr>\n",
              "    <tr>\n",
              "      <th>4</th>\n",
              "      <td>Маяковский</td>\n",
              "      <td>:-)\\nА вообще, мне нравится «Араби».\\nВкусная,...</td>\n",
              "    </tr>\n",
              "    <tr>\n",
              "      <th>...</th>\n",
              "      <td>...</td>\n",
              "      <td>...</td>\n",
              "    </tr>\n",
              "    <tr>\n",
              "      <th>2202</th>\n",
              "      <td>Пушкин</td>\n",
              "      <td>(Мф.24:24–28)\\nПошли мне жребий ваш,\\nЗаране ...</td>\n",
              "    </tr>\n",
              "    <tr>\n",
              "      <th>2203</th>\n",
              "      <td>Пушкин</td>\n",
              "      <td>, О вы, которых трепетали\\nЕвропы сильны племе...</td>\n",
              "    </tr>\n",
              "    <tr>\n",
              "      <th>2204</th>\n",
              "      <td>Пушкин</td>\n",
              "      <td>:\\nИ тем небо умножает,\\nИ мне блаженство внуш...</td>\n",
              "    </tr>\n",
              "    <tr>\n",
              "      <th>2205</th>\n",
              "      <td>Пушкин</td>\n",
              "      <td>, О нет, мне жизнь не надоела,\\nЯ жить люблю, ...</td>\n",
              "    </tr>\n",
              "    <tr>\n",
              "      <th>2206</th>\n",
              "      <td>Пушкин</td>\n",
              "      <td>и сердце бьется в упоенье\\nПри милом виде теб...</td>\n",
              "    </tr>\n",
              "  </tbody>\n",
              "</table>\n",
              "<p>7755 rows × 2 columns</p>\n",
              "</div>"
            ]
          },
          "metadata": {},
          "execution_count": 30
        }
      ]
    },
    {
      "cell_type": "markdown",
      "metadata": {
        "id": "BIP6DI3mYKAy"
      },
      "source": [
        "## Preprocess data"
      ]
    },
    {
      "cell_type": "code",
      "execution_count": null,
      "metadata": {
        "id": "GcchFiNkPL_y"
      },
      "outputs": [],
      "source": [
        "POETS = list(real_poetry_df['author'].unique())"
      ]
    },
    {
      "cell_type": "markdown",
      "metadata": {
        "id": "8-grYPEoDI-d"
      },
      "source": [
        "делаем небольшую чистку для формирования эмбеддингов"
      ]
    },
    {
      "cell_type": "code",
      "execution_count": null,
      "metadata": {
        "id": "JGgokS64auri"
      },
      "outputs": [],
      "source": [
        "def clean_line(text):\n",
        "  # Convert to lowercase\n",
        "\n",
        "  text = text.lower()\n",
        "    \n",
        "  # Remove punctuation\n",
        "  text = text.translate(str.maketrans(\"\", \"\", string.punctuation))\n",
        "  \n",
        "  # Remove numbers\n",
        "  text = re.sub(r'\\d+', '', text)\n",
        "  \n",
        "  # # Remove unknown symbols (keep only alphabets and spaces)\n",
        "  # text = re.sub(r'[^a-zа-яё\\s]', '', text)\n",
        "\n",
        "  # Strip leading and trailing whitespace\n",
        "  text = text.strip()\n",
        "  \n",
        "  # Replace multiple consecutive spaces with a single space\n",
        "  text = re.sub(r'\\s+', ' ', text)\n",
        "  \n",
        "  return text"
      ]
    },
    {
      "cell_type": "markdown",
      "metadata": {
        "id": "3u0jDMMpDATi"
      },
      "source": [
        "преобразуем в лист, содержащий построчно все произведения"
      ]
    },
    {
      "cell_type": "code",
      "execution_count": null,
      "metadata": {
        "id": "GilmV8XsAELT"
      },
      "outputs": [],
      "source": [
        "def get_poetry_lines(data: list):\n",
        "  poetry_lines = []\n",
        "  for poetry in data:\n",
        "    lines = poetry.split('\\n')\n",
        "    for line in lines:\n",
        "      if len(line.split()) < 30:\n",
        "        # line = clean_line(line) # очистка\n",
        "        poetry_lines.append(line)\n",
        "  return poetry_lines"
      ]
    },
    {
      "cell_type": "code",
      "execution_count": null,
      "metadata": {
        "id": "VoPgFvRkBVkF"
      },
      "outputs": [],
      "source": [
        "poetry_lines = {poet:{} for poet in POETS}\n",
        "\n",
        "for poet in POETS:\n",
        "  # real\n",
        "  real_poetry_list = real_poetry_df[real_poetry_df['author']==poet]['text'].to_list()\n",
        "  print(len(real_poetry_list))\n",
        "  poetry_lines[poet]['real'] = get_poetry_lines(real_poetry_list)\n",
        "\n",
        "  # image2one_poet\n",
        "  generated_O2O_list = generated_O2O[generated_O2O['author'] == poet]['text'].to_list()\n",
        "  print(len(generated_O2O_list))\n",
        "  poetry_lines[poet]['generated_medium_O2O'] = get_poetry_lines(generated_O2O_list)\n",
        "\n",
        "  #image to many poets\n",
        "  poetry_lines[poet]['generated_fp16'] = get_poetry_lines(generated_fp16[poet])\n",
        "  poetry_lines[poet]['generated_fp32'] = get_poetry_lines(generated_fp32[poet])\n",
        "  poetry_lines[poet]['generated_ft'] = get_poetry_lines(generated_ft[poet])\n",
        "  \n",
        "  # keywords to many\n",
        "  print(len(generated_poetry_large[poet]))\n",
        "  generated_large_list = generated_large_df[generated_large_df['author'] == poet]['text'].to_list()\n",
        "  generated_medium_list = generated_medium_df[generated_medium_df['author'] == poet]['text'].to_list()\n",
        "  poetry_lines[poet]['generated_large_O2M'] = get_poetry_lines(generated_large_list)\n",
        "  poetry_lines[poet]['generated_medium_O2M'] = get_poetry_lines(generated_medium_list)"
      ]
    },
    {
      "cell_type": "markdown",
      "metadata": {
        "id": "KQB2t1GRYi7F"
      },
      "source": [
        "# Bert to form embeddings by all poetry"
      ]
    },
    {
      "cell_type": "markdown",
      "metadata": {
        "id": "3tqZo6bducwO"
      },
      "source": [
        "https://huggingface.co/docs/transformers/model_doc/bert"
      ]
    },
    {
      "cell_type": "markdown",
      "metadata": {
        "id": "Tmjx7T6n0fJO"
      },
      "source": [
        "Load the pretrained SBERT model"
      ]
    },
    {
      "cell_type": "code",
      "execution_count": null,
      "metadata": {
        "id": "RZB9Y35Fjc0R"
      },
      "outputs": [],
      "source": [
        "device = torch.device('cuda' if torch.cuda.is_available() else 'cpu')"
      ]
    },
    {
      "cell_type": "code",
      "execution_count": null,
      "metadata": {
        "id": "x1nCdkqDuxz5"
      },
      "outputs": [],
      "source": [
        "model_name = 'sberbank-ai/sbert_large_mt_nlu_ru'\n",
        "tokenizer = AutoTokenizer.from_pretrained(model_name)\n",
        "model = AutoModel.from_pretrained(model_name).to(device)"
      ]
    },
    {
      "cell_type": "markdown",
      "metadata": {
        "id": "BxAUmCBDp-3X"
      },
      "source": [
        "Define a function to generate embeddings:"
      ]
    },
    {
      "cell_type": "code",
      "execution_count": null,
      "metadata": {
        "id": "Cy3Sllq1VwHs"
      },
      "outputs": [],
      "source": [
        "max_length = tokenizer.model_max_length"
      ]
    },
    {
      "cell_type": "code",
      "execution_count": null,
      "metadata": {
        "id": "sqdq_hvKpwf7"
      },
      "outputs": [],
      "source": [
        "def get_embeddings(texts, batch_size=32):\n",
        "    all_embeddings = []\n",
        "    \n",
        "    for i in range(0, len(texts), batch_size):\n",
        "        clear_output()\n",
        "\n",
        "        print(f'Batch {i/batch_size}/{len(texts)/batch_size}')\n",
        "        batch_texts = texts[i:i+batch_size]\n",
        "        tokens = tokenizer(batch_texts, padding=True, truncation=True, return_tensors='pt')\n",
        "        \n",
        "        # Move the input tensors to the device\n",
        "        tokens = {key: value.to(device) for key, value in tokens.items()}\n",
        "        \n",
        "        with torch.no_grad():\n",
        "            embeddings = model(**tokens).last_hidden_state[:, 0, :]\n",
        "            # Move the embeddings back to the CPU and convert to a NumPy array\n",
        "            embeddings = embeddings.cpu().numpy()\n",
        "        \n",
        "        all_embeddings.extend(embeddings)\n",
        "\n",
        "        # sleep(0.5)\n",
        "    \n",
        "    return np.array(all_embeddings)"
      ]
    },
    {
      "cell_type": "markdown",
      "metadata": {
        "id": "xEg8ckmeqF-h"
      },
      "source": [
        "Compute the embeddings for both sets of texts:"
      ]
    },
    {
      "cell_type": "code",
      "execution_count": null,
      "metadata": {
        "colab": {
          "base_uri": "https://localhost:8080/"
        },
        "id": "ncPNRcOWLgoe",
        "outputId": "186eb9de-48e1-4725-de79-8cb38c2bd9cf"
      },
      "outputs": [
        {
          "output_type": "stream",
          "name": "stdout",
          "text": [
            "Batch 63.0/698.25\n",
            "Batch 63.0/698.25\n"
          ]
        }
      ],
      "source": [
        "embeddings_dict = {poet:{} for poet in POETS}\n",
        "\n",
        "for poet in POETS:\n",
        "  print(poet)\n",
        "  embeddings_dict[poet]['generated_large_O2M'] = get_embeddings(poetry_lines[poet]['generated_large_O2M'])\n",
        "  embeddings_dict[poet]['generated_medium_O2M'] = get_embeddings(poetry_lines[poet]['generated_medium_O2M'])\n",
        "  embeddings_dict[poet]['real'] = get_embeddings(poetry_lines[poet]['real'])\n",
        "  embeddings_dict[poet]['generated_medium_O2O'] = get_embeddings(poetry_lines[poet]['generated_medium_O2O'])\n",
        "  embeddings_dict[poet]['generated_fp16'] = get_embeddings(poetry_lines[poet]['generated_fp16'])\n",
        "  embeddings_dict[poet]['generated_fp32'] = get_embeddings(poetry_lines[poet]['generated_fp32'])\n",
        "  embeddings_dict[poet]['generated_ft'] = get_embeddings(poetry_lines[poet]['generated_ft'])"
      ]
    },
    {
      "cell_type": "markdown",
      "metadata": {
        "id": "Kbk2TYxgrLIz"
      },
      "source": [
        "### save embeddings"
      ]
    },
    {
      "cell_type": "code",
      "execution_count": null,
      "metadata": {
        "id": "BNfqzFcVMDlj"
      },
      "outputs": [],
      "source": [
        "def save_embeddings(embeddings_dict: dict, file_name):\n",
        "  with open(file_name, 'wb') as f:\n",
        "    pickle.dump(embeddings_dict, f)"
      ]
    },
    {
      "cell_type": "code",
      "execution_count": null,
      "metadata": {
        "id": "6yQzbfxtNLRW"
      },
      "outputs": [],
      "source": [
        "save_embeddings(embeddings_dict, './embeddings_poetry.pkl')"
      ]
    }
  ],
  "metadata": {
    "colab": {
      "provenance": [],
      "toc_visible": true
    },
    "kernelspec": {
      "display_name": "Python 3",
      "name": "python3"
    },
    "language_info": {
      "name": "python"
    }
  },
  "nbformat": 4,
  "nbformat_minor": 0
}